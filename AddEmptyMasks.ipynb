{
 "cells": [
  {
   "cell_type": "markdown",
   "id": "7cb3d85d",
   "metadata": {},
   "source": [
    "### Adds a certain amount of images without instruments and corresponding empty masks to the training set"
   ]
  },
  {
   "cell_type": "code",
   "execution_count": null,
   "id": "81b0bf2d",
   "metadata": {},
   "outputs": [],
   "source": [
    "import sys\n",
    "import os, os.path\n",
    "from shutil import copyfile\n",
    "import random\n",
    "from PIL import Image"
   ]
  },
  {
   "cell_type": "code",
   "execution_count": null,
   "id": "13bc552f",
   "metadata": {},
   "outputs": [],
   "source": [
    "all_images = r\"E:\\Seafile\\WFT_SS2021_Thema 2\\Uploads\\images_all\"\n",
    "training_images = r\"E:\\Seafile\\WFT_SS2021_Thema 2\\Uploads\\images_training\"\n",
    "all_training_masks = r\"E:\\Seafile\\WFT_SS2021_Thema 2\\Uploads\\masks\"\n",
    "json_dir_excluding_rectangles = r\"E:\\Seafile\\WFT_SS2021_Thema 2\\Uploads\\json_files_excluding_rectangles\""
   ]
  },
  {
   "cell_type": "code",
   "execution_count": null,
   "id": "67ae8c43",
   "metadata": {},
   "outputs": [],
   "source": [
    "# Decide how many empty masks you want to include, with respect to the total of masks in that session\n",
    "percentage_of_masks = 0.2\n",
    "\n",
    "# Reference the Sessions and Subsessions, in case you want to add masks individually \n",
    "ses_list = [\"01\",\"02\",\"03\",\"04\",\"05\",\"06\",\"07\",\"08\",\"09\",\"10\"]\n",
    "sub_ses_list = [\"02\",\"03\"]\n",
    "\n",
    "\n",
    "for ses in ses_list:\n",
    "    for sub_ses in sub_ses_list:\n",
    "        masks_list = [i for i in os.listdir(all_training_masks) if os.path.isfile(os.path.join(all_training_masks,i)) and \\\n",
    "         i.startswith(\"aicm\"+ses+\"_\"+sub_ses)]\n",
    "\n",
    "        all_images_list = [i for i in os.listdir(all_images) if os.path.isfile(os.path.join(all_images,i)) and \\\n",
    "         i.startswith(\"aicm\"+ses+\"_\"+sub_ses)]\n",
    "        \n",
    "        json_files_list = [i for i in os.listdir(json_dir_excluding_rectangles) if os.path.isfile(os.path.join(json_dir_excluding_rectangles,i)) and \\\n",
    "         i.startswith(\"aicm\"+ses+\"_\"+sub_ses)]\n",
    "\n",
    "        num_masks = len([i for i in os.listdir(all_training_masks) if os.path.isfile(os.path.join(all_training_masks,i)) and \\\n",
    "         i.startswith(\"aicm\"+ses+\"_\"+sub_ses)])\n",
    "        \n",
    "        num_json_files = len([i for i in os.listdir(json_dir_excluding_rectangles) if os.path.isfile(os.path.join(json_dir_excluding_rectangles,i)) and \\\n",
    "         i.startswith(\"aicm\"+ses+\"_\"+sub_ses)])\n",
    "        \n",
    "        # If there are less masks than intended (including empty masks), generate new empty masks\n",
    "        if num_masks < num_masks+round(percentage_of_masks*num_json_files):\n",
    "\n",
    "            num_empty_masks = num_masks+round(percentage_of_masks*num_json_files) - num_masks\n",
    "            diff_list = list(set(all_images_list) - set(masks_list))\n",
    "\n",
    "            # Pick random sample of images without masks, to generate empty ones\n",
    "            empty_mask_list = random.sample(diff_list, num_empty_masks)\n",
    "            for mask in empty_mask_list:\n",
    "                copyfile(os.path.join(all_images,mask),os.path.join(training_images,mask))\n",
    "\n",
    "                # Create a new, empty mask\n",
    "                img = Image.open(os.path.join(all_images,mask))\n",
    "                width, height = img.size\n",
    "\n",
    "                img_new = Image.new('L', (width, height))\n",
    "                img_new.save(os.path.join(all_training_masks,mask), \"PNG\")\n",
    "        # If there are more masks than intended (including empty masks), delete certain amount of empty masks\n",
    "        elif num_masks > num_masks+round(percentage_of_masks*num_json_files):\n",
    "            num_empty_masks = num_masks - num_masks+round(percentage_of_masks*num_json_files)\n",
    "            diff_list = list(set(masks_list) - set(json_files_list))\n",
    "\n",
    "            # Pick random sample of empty masks to delete \n",
    "            empty_mask_list = random.sample(diff_list, num_empty_masks)\n",
    "            for mask in empty_mask_list:\n",
    "                os.remove(os.path.join(training_images,mask))\n",
    "                os.remove(os.path.join(all_training_masks,mask))"
   ]
  }
 ],
 "metadata": {
  "kernelspec": {
   "display_name": "Python 3",
   "language": "python",
   "name": "python3"
  },
  "language_info": {
   "codemirror_mode": {
    "name": "ipython",
    "version": 3
   },
   "file_extension": ".py",
   "mimetype": "text/x-python",
   "name": "python",
   "nbconvert_exporter": "python",
   "pygments_lexer": "ipython3",
   "version": "3.7.10"
  },
  "varInspector": {
   "cols": {
    "lenName": 16,
    "lenType": 16,
    "lenVar": 40
   },
   "kernels_config": {
    "python": {
     "delete_cmd_postfix": "",
     "delete_cmd_prefix": "del ",
     "library": "var_list.py",
     "varRefreshCmd": "print(var_dic_list())"
    },
    "r": {
     "delete_cmd_postfix": ") ",
     "delete_cmd_prefix": "rm(",
     "library": "var_list.r",
     "varRefreshCmd": "cat(var_dic_list()) "
    }
   },
   "position": {
    "height": "679.831px",
    "left": "602.361px",
    "right": "20px",
    "top": "121.982px",
    "width": "577.014px"
   },
   "types_to_exclude": [
    "module",
    "function",
    "builtin_function_or_method",
    "instance",
    "_Feature"
   ],
   "window_display": false
  }
 },
 "nbformat": 4,
 "nbformat_minor": 5
}
