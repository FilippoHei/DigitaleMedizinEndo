{
 "cells": [
  {
   "cell_type": "code",
   "execution_count": null,
   "metadata": {},
   "outputs": [],
   "source": [
    "import os\n",
    "from PIL import Image\n",
    "import numpy as np\n",
    "from shutil import copyfile"
   ]
  },
  {
   "cell_type": "markdown",
   "metadata": {},
   "source": [
    "\n",
    "Parameter of resize function<br>\n",
    "-path_imgs: Path to the folder where the images/masks you want to resize are located - enter as string: e.g. '../../masks'. <br>\n",
    "-new_width: Width to which the images are supposed to be resized<br>\n",
    "-new_height: Height to which the images are supposed to be resized<br>\n",
    "-path_new: Path where you want to store the new images. The folder must already exist! - enter as string: e.g. '../../folder_new_images' <br>\n",
    "-aicm: Specify only the number of the session, as a string: e.g. '10' / '03' <br>\n",
    "-subsession: specify 02 or 03 only, also as a string: '02' / '03' <br>\n",
    "    "
   ]
  },
  {
   "cell_type": "code",
   "execution_count": null,
   "metadata": {},
   "outputs": [],
   "source": [
    "def resizeImages(path_imgs, new_width, new_height, path_new, aicm, number):\n",
    "    images = [f for f in os.listdir(path_imgs) if os.path.splitext(f)[-1] in [\".jpg\",\".png\"]]\n",
    "\n",
    "    image_array = []\n",
    "    for image in images:\n",
    "    \n",
    "        imagepath = path_imgs +'/' + image\n",
    "        im = Image.open(imagepath)\n",
    "        image_array.append(im)\n",
    "        \n",
    "        \n",
    "    resized_imgs = []\n",
    "    #index of current image to get the corresponding name from name list\n",
    "    i = 0\n",
    "    for img in image_array:\n",
    "        img = img.resize((new_width, new_height))\n",
    "        \n",
    "        imageName, ext = os.path.splitext(images[i])\n",
    "        savepath = path_new + '/aicm' + aicm + '_' + number + '_'+ imageName + '.png'\n",
    "        img.save(savepath)\n",
    "        data = np.array(img)\n",
    "        resized_imgs.append(data)\n",
    "        i = i +1\n",
    "        \n",
    "    return resized_imgs    \n",
    "      \n",
    "    \n",
    " \n",
    "    "
   ]
  },
  {
   "cell_type": "code",
   "execution_count": null,
   "metadata": {},
   "outputs": [],
   "source": [
    "def renameJson(path_json, path_new, aicm, number):\n",
    "    json_files = [f for f in os.listdir(path_json) if os.path.splitext(f)[-1] in [\".json\"]]\n",
    "    \n",
    "    for file in json_files:\n",
    "        savepath = path_new + '/aicm' + aicm + '_' + number + '_'+ file\n",
    "        copyfile(os.path.join(path_json, file), savepath)"
   ]
  },
  {
   "cell_type": "code",
   "execution_count": null,
   "metadata": {},
   "outputs": [],
   "source": [
    "#Example to resize masks from session 8., subsession 2 to width 768, height 432\n",
    "resized_imgs = resizeImages("/masks", 768, 432, "/../resizedMasks", '08', '02')"
   ]
  },
  {
   "cell_type": "code",
   "execution_count": null,
   "metadata": {},
   "outputs": [],
   "source": [
    "renameJson(r\"E:\\Seafile\\WFT_SS2021_Thema 2\\Uploads\\aicm4_labels\\image_02_labels\", r\"E:\\Seafile\\WFT_SS2021_Thema 2\\Uploads\\json_files_including_rectangles\", '04', '02')"
   ]
  },
  {
   "cell_type": "code",
   "execution_count": null,
   "metadata": {},
   "outputs": [],
   "source": [
    "#Test to see if resizing has worked <br>\n",
    "#You should get the new height and width returned. <br>\n",

    "print(resized_imgs[0].shape)"
   ]
  }
 ],
 "metadata": {
  "kernelspec": {
   "display_name": "Python 3",
   "language": "python",
   "name": "python3"
  },
  "language_info": {
   "codemirror_mode": {
    "name": "ipython",
    "version": 3
   },
   "file_extension": ".py",
   "mimetype": "text/x-python",
   "name": "python",
   "nbconvert_exporter": "python",
   "pygments_lexer": "ipython3",
   "version": "3.7.10"
  },
  "varInspector": {
   "cols": {
    "lenName": 16,
    "lenType": 16,
    "lenVar": 40
   },
   "kernels_config": {
    "python": {
     "delete_cmd_postfix": "",
     "delete_cmd_prefix": "del ",
     "library": "var_list.py",
     "varRefreshCmd": "print(var_dic_list())"
    },
    "r": {
     "delete_cmd_postfix": ") ",
     "delete_cmd_prefix": "rm(",
     "library": "var_list.r",
     "varRefreshCmd": "cat(var_dic_list()) "
    }
   },
   "types_to_exclude": [
    "module",
    "function",
    "builtin_function_or_method",
    "instance",
    "_Feature"
   ],
   "window_display": false
  }
 },
 "nbformat": 4,
 "nbformat_minor": 4
}
