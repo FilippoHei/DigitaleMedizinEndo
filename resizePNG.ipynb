{
 "cells": [
  {
   "cell_type": "code",
   "execution_count": 57,
   "metadata": {},
   "outputs": [],
   "source": [
    "import os\n",
    "from PIL import Image\n",
    "import numpy as np"
   ]
  },
  {
   "cell_type": "markdown",
   "metadata": {},
   "source": [
    "\n",
    "Erklärung Inputparameter\n",
    "-path_imgs: Pfad, wo der Ordner liegt, in dem die Bilder sind die du resizen willst - als String angeben: 'bla..' <br>\n",
    "-new_width: Neue Breite<br>\n",
    "-new_height: Neue Höhe<br>\n",
    "-path_new: Pfad wo du die neuen Bilder ablegen willst. Der Ordner muss bereits existieren! - als String angeben: 'bla/../ordner' <br>\n",
    "-aicm: nur Zahl der Session angeben, als String: '10' / '03' <br>\n",
    "-number: nur 02 oder 03 angeben, auch als String: '02' / '03' <br>\n",
    "    "
   ]
  },
  {
   "cell_type": "code",
   "execution_count": 58,
   "metadata": {},
   "outputs": [],
   "source": [
    "def loadImgs(path_imgs, new_width, new_height, path_new, aicm, number):\n",
    "    images = [f for f in os.listdir(path_imgs) if os.path.splitext(f)[-1] == '.png']\n",
    "\n",
    "    image_array = []\n",
    "    for image in images:\n",
    "    \n",
    "        imagepath = path_imgs +'/' + image\n",
    "        im = Image.open(imagepath)\n",
    "        image_array.append(im)\n",
    "        \n",
    "        \n",
    "    resized_imgs = []\n",
    "    #index of current image to get the corresponding name from name list\n",
    "    i = 0\n",
    "    for img in image_array:\n",
    "        img = img.resize((new_width, new_height))\n",
    "        \n",
    "        imageName = images[i]\n",
    "        savepath = path_new + '/aicm' + aicm + '_' + number + '_'+ imageName \n",
    "        img.save(savepath)\n",
    "        data = np.array(img)\n",
    "        resized_imgs.append(data)\n",
    "        i = i +1\n",
    "        \n",
    "    return resized_imgs    \n",
    "      \n",
    "    \n",
    " \n",
    "    "
   ]
  },
  {
   "cell_type": "code",
   "execution_count": 59,
   "metadata": {},
   "outputs": [],
   "source": [
    "#Beispielaufruf\n",
    "#resized_imgs = loadImgs('C:/.../SegmentationClassPNG', 768, 432, 'C:/.../masks', '10', '02')"
   ]
  },
  {
   "cell_type": "code",
   "execution_count": 60,
   "metadata": {},
   "outputs": [
    {
     "name": "stdout",
     "output_type": "stream",
     "text": [
      "(432, 768)\n"
     ]
    }
   ],
   "source": [
    "#Test um zu sehen ob resizen geklappt hat\n",
    "print(resized_imgs[0].shape)"
   ]
  }
 ],
 "metadata": {
  "kernelspec": {
   "display_name": "Python 3",
   "language": "python",
   "name": "python3"
  },
  "language_info": {
   "codemirror_mode": {
    "name": "ipython",
    "version": 3
   },
   "file_extension": ".py",
   "mimetype": "text/x-python",
   "name": "python",
   "nbconvert_exporter": "python",
   "pygments_lexer": "ipython3",
   "version": "3.8.5"
  }
 },
 "nbformat": 4,
 "nbformat_minor": 4
}
