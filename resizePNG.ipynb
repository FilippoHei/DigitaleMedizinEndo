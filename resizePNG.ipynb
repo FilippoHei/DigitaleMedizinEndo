{
 "cells": [
  {
   "cell_type": "code",
   "execution_count": null,
   "metadata": {},
   "outputs": [],
   "source": [
    "import os\n",
    "from PIL import Image\n",
    "import numpy as np\n",
    "from shutil import copyfile"
   ]
  },
  {
   "cell_type": "markdown",
   "metadata": {},
   "source": [
    "\n",
    "Erklärung Inputparameter<br>\n",
    "-path_imgs: Pfad, wo der Ordner liegt, in dem die Bilder sind die du resizen willst - als String angeben: 'bla..' <br>\n",
    "-new_width: Neue Breite<br>\n",
    "-new_height: Neue Höhe<br>\n",
    "-path_new: Pfad wo du die neuen Bilder ablegen willst. Der Ordner muss bereits existieren! - als String angeben: 'bla/../ordner' <br>\n",
    "-aicm: nur Zahl der Session angeben, als String: '10' / '03' <br>\n",
    "-number: nur 02 oder 03 angeben, auch als String: '02' / '03' <br>\n",
    "    "
   ]
  },
  {
   "cell_type": "code",
   "execution_count": null,
   "metadata": {},
   "outputs": [],
   "source": [
    "def loadImgs(path_imgs, new_width, new_height, path_new, aicm, number):\n",
    "    images = [f for f in os.listdir(path_imgs) if os.path.splitext(f)[-1] in [\".jpg\",\".png\"]]\n",
    "\n",
    "    image_array = []\n",
    "    for image in images:\n",
    "    \n",
    "        imagepath = path_imgs +'/' + image\n",
    "        im = Image.open(imagepath)\n",
    "        image_array.append(im)\n",
    "        \n",
    "        \n",
    "    resized_imgs = []\n",
    "    #index of current image to get the corresponding name from name list\n",
    "    i = 0\n",
    "    for img in image_array:\n",
    "        img = img.resize((new_width, new_height))\n",
    "        \n",
    "        imageName, ext = os.path.splitext(images[i])\n",
    "        savepath = path_new + '/aicm' + aicm + '_' + number + '_'+ imageName + '.png'\n",
    "        img.save(savepath)\n",
    "        data = np.array(img)\n",
    "        resized_imgs.append(data)\n",
    "        i = i +1\n",
    "        \n",
    "    return resized_imgs    \n",
    "      \n",
    "    \n",
    " \n",
    "    "
   ]
  },
  {
   "cell_type": "code",
   "execution_count": null,
   "metadata": {},
   "outputs": [],
   "source": [
    "def renameJson(path_json, path_new, aicm, number):\n",
    "    json_files = [f for f in os.listdir(path_json) if os.path.splitext(f)[-1] in [\".json\"]]\n",
    "    \n",
    "    for file in json_files:\n",
    "        savepath = path_new + '/aicm' + aicm + '_' + number + '_'+ file\n",
    "        copyfile(os.path.join(path_json, file), savepath)"
   ]
  },
  {
   "cell_type": "code",
   "execution_count": null,
   "metadata": {},
   "outputs": [],
   "source": [
    "#Beispielaufruf\n",
    "resized_imgs = loadImgs(r\"E:\\Seafile\\WFT_SS2021_Thema 2\\Uploads\\aicm8_labels\\image_02\\image_02_voc\\SegmentationClassPNG\", 768, 432, r\"E:\\Seafile\\WFT_SS2021_Thema 2\\Uploads\\masks\", '08', '02')"
   ]
  },
  {
   "cell_type": "code",
   "execution_count": null,
   "metadata": {},
   "outputs": [],
   "source": [
    "renameJson(r\"E:\\Seafile\\WFT_SS2021_Thema 2\\Uploads\\aicm4_labels\\image_02_labels\", r\"E:\\Seafile\\WFT_SS2021_Thema 2\\Uploads\\json_files_including_rectangles\", '04', '02')"
   ]
  },
  {
   "cell_type": "code",
   "execution_count": null,
   "metadata": {},
   "outputs": [],
   "source": [
    "#Test um zu sehen ob resizen geklappt hat\n",
    "print(resized_imgs[0].shape)"
   ]
  }
 ],
 "metadata": {
  "kernelspec": {
   "display_name": "Python 3",
   "language": "python",
   "name": "python3"
  },
  "language_info": {
   "codemirror_mode": {
    "name": "ipython",
    "version": 3
   },
   "file_extension": ".py",
   "mimetype": "text/x-python",
   "name": "python",
   "nbconvert_exporter": "python",
   "pygments_lexer": "ipython3",
   "version": "3.7.10"
  },
  "varInspector": {
   "cols": {
    "lenName": 16,
    "lenType": 16,
    "lenVar": 40
   },
   "kernels_config": {
    "python": {
     "delete_cmd_postfix": "",
     "delete_cmd_prefix": "del ",
     "library": "var_list.py",
     "varRefreshCmd": "print(var_dic_list())"
    },
    "r": {
     "delete_cmd_postfix": ") ",
     "delete_cmd_prefix": "rm(",
     "library": "var_list.r",
     "varRefreshCmd": "cat(var_dic_list()) "
    }
   },
   "types_to_exclude": [
    "module",
    "function",
    "builtin_function_or_method",
    "instance",
    "_Feature"
   ],
   "window_display": false
  }
 },
 "nbformat": 4,
 "nbformat_minor": 4
}
