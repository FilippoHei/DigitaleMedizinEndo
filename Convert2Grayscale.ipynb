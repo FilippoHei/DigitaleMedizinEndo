{
 "cells": [
  {
   "cell_type": "markdown",
   "id": "e0deff5e",
   "metadata": {},
   "source": [
    "### Prepares masks for multi instance segmentation, by converting them to grayscales"
   ]
  },
  {
   "cell_type": "code",
   "execution_count": null,
   "id": "b339646d",
   "metadata": {},
   "outputs": [],
   "source": [
    "import os\n",
    "from PIL import Image\n",
    "import cv2\n",
    "import numpy as np"
   ]
  },
  {
   "cell_type": "code",
   "execution_count": null,
   "id": "c5035123",
   "metadata": {},
   "outputs": [],
   "source": [
    "# Directory of masks to be converted\n",
    "dir_mask = r\"E:\\Seafile\\WFT_SS2021_Thema 2\\Uploads\\masks_grayscale\""
   ]
  },
  {
   "cell_type": "raw",
   "id": "ef81d473",
   "metadata": {},
   "source": [
    "# To test whether conversion was successfull\n",
    "masks_list = [f for f in os.listdir(dir_mask)if os.path.isfile(os.path.join(dir_mask, f))]\n",
    "\n",
    "for fileName in masks_list:\n",
    "    # Check, whether more than background is visible in the mask\n",
    "    image_gray = cv2.imread(file, cv2.IMREAD_GRAYSCALE)\n",
    "    unique = np.unique(image_gray.flatten())\n",
    "    for i in unique:\n",
    "        if i not in [0,1,2,3,4,5]:\n",
    "            print(fileName)\n",
    "            print(unique)"
   ]
  },
  {
   "cell_type": "code",
   "execution_count": null,
   "id": "59c3c1db",
   "metadata": {},
   "outputs": [],
   "source": [
    "masks_list = [f for f in os.listdir(dir_mask)if os.path.isfile(os.path.join(dir_mask, f))]\n",
    "\n",
    "for fileName in masks_list:\n",
    "    file = os.path.join(dir_mask, fileName)\n",
    "\n",
    "    # Convert all images to 8-bit gray scales\n",
    "    img_grayscale = Image.open(file).convert('L')\n",
    "    img_grayscale.save(file)\n",
    "\n",
    "    # Check, whether more than background is visible in the mask\n",
    "    image_gray = cv2.imread(file, cv2.IMREAD_GRAYSCALE)\n",
    "    unique = np.unique(image_gray.flatten())\n",
    "    if len(unique) > 1:\n",
    "        # For every pixel change gray-scale value according to categorical value\n",
    "        img = Image.open(file)\n",
    "        # Create pixel map\n",
    "        pixels = img.load()\n",
    "        \n",
    "        # The sessions 1-4 were differently color-coded, due to a different labels.txt file.\n",
    "        # You have to access them seperately.\n",
    "        # There were no instances with a \"Knotenschieber\" in the frames of these sessions.\n",
    "        \n",
    "        # Nervhaken = 38\n",
    "        # Nadelhalter = 75\n",
    "        # Klappenschere = 113\n",
    "        # Atraum. Pinzette = 14\n",
    "        # Knotenschieber = 52\n",
    "        \n",
    "        if fileName[4:6] in [\"01\",\"02\",\"03\",\"04\"]:\n",
    "            for ii in range(img.size[0]): \n",
    "                for j in range(img.size[1]):\n",
    "                    if pixels[ii,j] == 14: # Atraum. Pinzette\n",
    "                        pixels[ii,j] = 1\n",
    "                    elif pixels[ii,j] == 75: # Nadelhalter\n",
    "                        pixels[ii,j] = 2\n",
    "                    elif pixels[ii,j] == 113: # Klappenschere\n",
    "                        pixels[ii,j] = 3\n",
    "                    elif pixels[ii,j] == 52: # Knotenschieber\n",
    "                        pixels[ii,j] = 4\n",
    "                    elif pixels[ii,j] == 38: # Nervhaken\n",
    "                        pixels[ii,j] = 5\n",
    "        # For sessions 5-10 the following color-code was used:\n",
    "        \n",
    "        # None = 38\n",
    "        # Nervhaken = 75\n",
    "        # Nadelhalter = 113\n",
    "        # Klappenschere = 14\n",
    "        # Atraum. Pinzette = 52\n",
    "        # Knotenschieber = 89\n",
    "        # Artefakt = 128\n",
    "        \n",
    "        else:\n",
    "            for ii in range(img.size[0]): \n",
    "                for j in range(img.size[1]):\n",
    "                    if pixels[ii,j] == 52: # Atraum. Pinzette\n",
    "                        pixels[ii,j] = 1\n",
    "                    elif pixels[ii,j] == 113: # Nadelhalter\n",
    "                        pixels[ii,j] = 2\n",
    "                    elif pixels[ii,j] == 14: # Klappenschere\n",
    "                        pixels[ii,j] = 3\n",
    "                    elif pixels[ii,j] == 89: # Knotenschieber\n",
    "                        pixels[ii,j] = 4\n",
    "                    elif pixels[ii,j] == 75: # Nervhaken\n",
    "                        pixels[ii,j] = 5\n",
    "        img.save(file)"
   ]
  }
 ],
 "metadata": {
  "kernelspec": {
   "display_name": "Python 3",
   "language": "python",
   "name": "python3"
  },
  "language_info": {
   "codemirror_mode": {
    "name": "ipython",
    "version": 3
   },
   "file_extension": ".py",
   "mimetype": "text/x-python",
   "name": "python",
   "nbconvert_exporter": "python",
   "pygments_lexer": "ipython3",
   "version": "3.7.10"
  },
  "varInspector": {
   "cols": {
    "lenName": 16,
    "lenType": 16,
    "lenVar": 40
   },
   "kernels_config": {
    "python": {
     "delete_cmd_postfix": "",
     "delete_cmd_prefix": "del ",
     "library": "var_list.py",
     "varRefreshCmd": "print(var_dic_list())"
    },
    "r": {
     "delete_cmd_postfix": ") ",
     "delete_cmd_prefix": "rm(",
     "library": "var_list.r",
     "varRefreshCmd": "cat(var_dic_list()) "
    }
   },
   "types_to_exclude": [
    "module",
    "function",
    "builtin_function_or_method",
    "instance",
    "_Feature"
   ],
   "window_display": false
  }
 },
 "nbformat": 4,
 "nbformat_minor": 5
}
