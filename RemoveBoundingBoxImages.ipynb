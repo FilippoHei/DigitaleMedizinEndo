{
 "cells": [
  {
   "cell_type": "markdown",
   "id": "40ef1f30",
   "metadata": {},
   "source": [
    "### Scans Json Files for Rectangle Labels (\"Bounding Boxes\") and removes those Files"
   ]
  },
  {
   "cell_type": "code",
   "execution_count": null,
   "id": "02aee514",
   "metadata": {},
   "outputs": [],
   "source": [
    "import json\n",
    "import sys\n",
    "import os\n",
    "from shutil import copyfile"
   ]
  },
  {
   "cell_type": "code",
   "execution_count": null,
   "id": "0d234de5",
   "metadata": {},
   "outputs": [],
   "source": [
    "common_json_dir = r\"E:\\Seafile\\WFT_SS2021_Thema 2\\Uploads\\json_files_including_rectangles\"\n",
    "json_dir_exclude_rectangles = r\"E:\\Seafile\\WFT_SS2021_Thema 2\\Uploads\\json_files_excluding_rectangles\"\n",
    "training_imgs = r\"E:\\Seafile\\WFT_SS2021_Thema 2\\Uploads\\images_training\"\n",
    "training_masks = r\"E:\\Seafile\\WFT_SS2021_Thema 2\\Uploads\\masks\""
   ]
  },
  {
   "cell_type": "code",
   "execution_count": null,
   "id": "068bc9bb",
   "metadata": {},
   "outputs": [],
   "source": [
    "# Get all json files, that contain bounding boxes (\"rectangles\")\n",
    "# Delete them from the training directories, if necessary\n",
    "searchTerm = \"rectangle\"\n",
    "\n",
    "for root, dirs, files in os.walk(common_json_dir):\n",
    "    for file in files:\n",
    "        j_file = open(os.path.join(root,file), 'r')\n",
    "        data = json.load(j_file)\n",
    "        \n",
    "        bounding_box = False\n",
    "        for element in data[\"shapes\"]:\n",
    "            if element[\"shape_type\"] == searchTerm:\n",
    "                print(os.path.join(root,file))\n",
    "                base = os.path.splitext(file)[0]\n",
    "                if os.path.isfile(os.path.join(training_masks,base+\".png\")):\n",
    "                    os.remove(os.path.join(training_masks,base+\".png\"))\n",
    "                if os.path.isfile(os.path.join(training_imgs,base+\".png\")):\n",
    "                    os.remove(os.path.join(training_imgs,base+\".png\"))\n",
    "                bounding_box = True\n",
    "                break\n",
    "        \n",
    "        if not bounding_box:\n",
    "            copyfile(os.path.join(root, file), os.path.join(json_dir_exclude_rectangles, file))"
   ]
  }
 ],
 "metadata": {
  "kernelspec": {
   "display_name": "Python 3",
   "language": "python",
   "name": "python3"
  },
  "language_info": {
   "codemirror_mode": {
    "name": "ipython",
    "version": 3
   },
   "file_extension": ".py",
   "mimetype": "text/x-python",
   "name": "python",
   "nbconvert_exporter": "python",
   "pygments_lexer": "ipython3",
   "version": "3.7.10"
  },
  "varInspector": {
   "cols": {
    "lenName": 16,
    "lenType": 16,
    "lenVar": 40
   },
   "kernels_config": {
    "python": {
     "delete_cmd_postfix": "",
     "delete_cmd_prefix": "del ",
     "library": "var_list.py",
     "varRefreshCmd": "print(var_dic_list())"
    },
    "r": {
     "delete_cmd_postfix": ") ",
     "delete_cmd_prefix": "rm(",
     "library": "var_list.r",
     "varRefreshCmd": "cat(var_dic_list()) "
    }
   },
   "types_to_exclude": [
    "module",
    "function",
    "builtin_function_or_method",
    "instance",
    "_Feature"
   ],
   "window_display": false
  }
 },
 "nbformat": 4,
 "nbformat_minor": 5
}
