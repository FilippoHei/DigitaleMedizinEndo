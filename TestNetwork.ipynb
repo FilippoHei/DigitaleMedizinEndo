{
 "cells": [
  {
   "cell_type": "code",
   "execution_count": null,
   "id": "e38e6a4c",
   "metadata": {},
   "outputs": [],
   "source": [
    "import argparse\n",
    "import logging\n",
    "import os\n",
    "import os.path as osp\n",
    "import sys\n",
    "os.environ[\"CUDA_VISIBLE_DEVICES\"] = \"1\"\n",
    "# Change this path to wherever you installed the Pytorch-UNet module\n",
    "sys.path.append(r\"C:\\Users\\Groh\\Documents\\GitHub\\unet-nested-multiple-classification\")\n",
    "# sys.path.append(r\"C:\\Users\\Groh\\Documents\\GitHub\\colabtools\\google\")\n",
    "os.environ['KMP_DUPLICATE_LIB_OK']='True'\n",
    "\n",
    "\n",
    "import numpy as np\n",
    "import torch\n",
    "import torch.nn.functional as F\n",
    "from torchvision import transforms\n",
    "from PIL import Image\n",
    "from tqdm import tqdm\n",
    "\n",
    "from unet import NestedUNet\n",
    "from unet import UNet\n",
    "from utils.dataset import BasicDataset\n",
    "from config import UNetConfig\n",
    "\n",
    "from google.colab import drive\n",
    "drive.mount('/content/drive')\n",
    "# os.chdir(\"/content/drive/My Drive\")"
   ]
  },
  {
   "cell_type": "code",
   "execution_count": 2,
   "id": "3db6d128",
   "metadata": {},
   "outputs": [],
   "source": [
    "cfg = UNetConfig()\n",
    "\n",
    "def inference_one(net, image, device):\n",
    "    net.eval()\n",
    "\n",
    "    img = torch.from_numpy(BasicDataset.preprocess(image, cfg.scale))\n",
    "\n",
    "    img = img.unsqueeze(0)\n",
    "    img = img.to(device=device, dtype=torch.float32)\n",
    "\n",
    "    with torch.no_grad():\n",
    "        output = net(img)\n",
    "        if cfg.deepsupervision:\n",
    "            output = output[-1]\n",
    "\n",
    "        if cfg.n_classes > 1:\n",
    "            probs = F.softmax(output, dim=1)\n",
    "        else:\n",
    "            probs = torch.sigmoid(output)\n",
    "\n",
    "        probs = probs.squeeze(0)\n",
    "\n",
    "        tf = transforms.Compose(\n",
    "            [\n",
    "                transforms.ToPILImage(),\n",
    "                transforms.Resize((image.size[1], image.size[0])),\n",
    "                transforms.ToTensor()\n",
    "            ]\n",
    "        )\n",
    "        \n",
    "        if cfg.n_classes == 1:\n",
    "            probs = tf(probs.cpu())\n",
    "            mask = probs.squeeze().cpu().numpy()\n",
    "            return mask > cfg.out_threshold\n",
    "        else:\n",
    "            masks = []\n",
    "            for prob in probs:\n",
    "                prob = tf(prob.cpu())\n",
    "                mask = prob.squeeze().cpu().numpy()\n",
    "                mask = mask > cfg.out_threshold\n",
    "                masks.append(mask)\n",
    "            return masks"
   ]
  },
  {
   "cell_type": "code",
   "execution_count": 9,
   "id": "c9c1dca2",
   "metadata": {},
   "outputs": [
    {
     "ename": "FileNotFoundError",
     "evalue": "[WinError 3] Das System kann den angegebenen Pfad nicht finden: 'content/drive/'",
     "output_type": "error",
     "traceback": [
      "\u001b[1;31m---------------------------------------------------------------------------\u001b[0m",
      "\u001b[1;31mFileNotFoundError\u001b[0m                         Traceback (most recent call last)",
      "\u001b[1;32m<ipython-input-9-dc1349231797>\u001b[0m in \u001b[0;36m<module>\u001b[1;34m\u001b[0m\n\u001b[0;32m      2\u001b[0m \u001b[0msessions_to_test\u001b[0m \u001b[1;33m=\u001b[0m \u001b[1;33m[\u001b[0m\u001b[1;34m\"09\"\u001b[0m\u001b[1;33m,\u001b[0m\u001b[1;34m\"10\"\u001b[0m\u001b[1;33m]\u001b[0m\u001b[1;33m\u001b[0m\u001b[1;33m\u001b[0m\u001b[0m\n\u001b[0;32m      3\u001b[0m \u001b[1;33m\u001b[0m\u001b[0m\n\u001b[1;32m----> 4\u001b[1;33m \u001b[0mprint\u001b[0m\u001b[1;33m(\u001b[0m\u001b[0mos\u001b[0m\u001b[1;33m.\u001b[0m\u001b[0mlistdir\u001b[0m\u001b[1;33m(\u001b[0m\u001b[1;34m\"content/drive/\"\u001b[0m\u001b[1;33m)\u001b[0m\u001b[1;33m)\u001b[0m\u001b[1;33m\u001b[0m\u001b[1;33m\u001b[0m\u001b[0m\n\u001b[0m",
      "\u001b[1;31mFileNotFoundError\u001b[0m: [WinError 3] Das System kann den angegebenen Pfad nicht finden: 'content/drive/'"
     ]
    }
   ],
   "source": [
    "all_images = \"../content/drive/My Drive/imgs_masks_768x432/masks/\"\n",
    "sessions_to_test = [\"09\",\"10\"]\n",
    "\n",
    "print(os.listdir(\"content/drive/\"))"
   ]
  },
  {
   "cell_type": "code",
   "execution_count": null,
   "id": "0b223185",
   "metadata": {},
   "outputs": [],
   "source": [
    "for ses in sessions_to_test:\n",
    "    input_imgs = [i for i in os.listdir(all_training_masks) if os.path.isfile(os.path.join(all_training_masks,i)) and \\\n",
    "         i.startswith(\"aicm\"+ses)]\n",
    "\n",
    "net = eval(cfg.model)(cfg)\n",
    "logging.info(\"Loading model {}\".format(args.model))\n",
    "\n",
    "device = torch.device('cuda' if torch.cuda.is_available() else 'cpu')\n",
    "logging.info(f'Using device {device}')\n",
    "net.to(device=device)\n",
    "net.load_state_dict(torch.load(args.model, map_location=device))\n",
    "\n",
    "logging.info(\"Model loaded !\")\n",
    "\n",
    "for i, img_name in tqdm(enumerate(input_imgs)):\n",
    "    logging.info(\"\\nPredicting image {} ...\".format(img_name))\n",
    "\n",
    "    img_path = osp.join(args.input, img_name)\n",
    "    img = Image.open(img_path)\n",
    "\n",
    "    mask = inference_one(net=net,\n",
    "                         image=img,\n",
    "                         device=device)\n",
    "    img_name_no_ext = osp.splitext(img_name)[0]\n",
    "    output_img_dir = osp.join(args.output, img_name_no_ext)\n",
    "    os.makedirs(output_img_dir, exist_ok=True)\n",
    "\n",
    "    if cfg.n_classes == 1:\n",
    "        image_idx = Image.fromarray((mask * 255).astype(np.uint8))\n",
    "        image_idx.save(osp.join(output_img_dir, img_name))\n",
    "    else:\n",
    "        for idx in range(0, len(mask)):\n",
    "            img_name_idx = img_name_no_ext + \"_\" + str(idx) + \".png\"\n",
    "            image_idx = Image.fromarray((mask[idx] * 255).astype(np.uint8))\n",
    "            image_idx.save(osp.join(output_img_dir, img_name_idx))\n"
   ]
  }
 ],
 "metadata": {
  "kernelspec": {
   "display_name": "Python 3",
   "language": "python",
   "name": "python3"
  },
  "language_info": {
   "codemirror_mode": {
    "name": "ipython",
    "version": 3
   },
   "file_extension": ".py",
   "mimetype": "text/x-python",
   "name": "python",
   "nbconvert_exporter": "python",
   "pygments_lexer": "ipython3",
   "version": "3.7.10"
  },
  "varInspector": {
   "cols": {
    "lenName": 16,
    "lenType": 16,
    "lenVar": 40
   },
   "kernels_config": {
    "python": {
     "delete_cmd_postfix": "",
     "delete_cmd_prefix": "del ",
     "library": "var_list.py",
     "varRefreshCmd": "print(var_dic_list())"
    },
    "r": {
     "delete_cmd_postfix": ") ",
     "delete_cmd_prefix": "rm(",
     "library": "var_list.r",
     "varRefreshCmd": "cat(var_dic_list()) "
    }
   },
   "types_to_exclude": [
    "module",
    "function",
    "builtin_function_or_method",
    "instance",
    "_Feature"
   ],
   "window_display": false
  }
 },
 "nbformat": 4,
 "nbformat_minor": 5
}
