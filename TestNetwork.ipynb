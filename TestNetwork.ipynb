{
 "cells": [
  {
   "cell_type": "code",
   "execution_count": 86,
   "id": "b8458bde",
   "metadata": {},
   "outputs": [],
   "source": [
    "%matplotlib inline"
   ]
  },
  {
   "cell_type": "code",
   "execution_count": 45,
   "id": "e38e6a4c",
   "metadata": {},
   "outputs": [],
   "source": [
    "import argparse\n",
    "import logging\n",
    "import os\n",
    "import os.path as osp\n",
    "import sys\n",
    "os.environ[\"CUDA_VISIBLE_DEVICES\"] = \"1\"\n",
    "# Change this path to wherever you installed the Pytorch-UNet module\n",
    "sys.path.append(r\"C:\\Users\\Groh\\Documents\\GitHub\\unet-nested-multiple-classification\")\n",
    "# sys.path.append(r\"C:\\Users\\Groh\\Documents\\GitHub\\colabtools\\google\")\n",
    "os.environ['KMP_DUPLICATE_LIB_OK']='True'\n",
    "\n",
    "import cv2\n",
    "import numpy as np\n",
    "import torch\n",
    "from torch.utils.data import DataLoader, Dataset, random_split\n",
    "import torch.nn.functional as F\n",
    "from torchvision.transforms import functional as func\n",
    "from torchvision import transforms\n",
    "from PIL import Image\n",
    "from tqdm import tqdm\n",
    "\n",
    "from unet import NestedUNet\n",
    "from unet import UNet\n",
    "from utils.dataset import BasicDataset\n",
    "from config import UNetConfig\n",
    "\n",
    "# from google.colab import drive\n",
    "# drive.mount('/content/drive')\n",
    "# os.chdir(\"/content/drive/My Drive\")"
   ]
  },
  {
   "cell_type": "code",
   "execution_count": 34,
   "id": "1ee4163d",
   "metadata": {},
   "outputs": [],
   "source": [
    "# Evaluation function\n",
    "def eval_net(net, loader, device, n_val, cfg):\n",
    "    \"\"\"\n",
    "    Evaluation without the densecrf with the dice coefficient\n",
    "\n",
    "    \"\"\"\n",
    "    net.eval()\n",
    "    tot = 0\n",
    "\n",
    "    with tqdm(total=n_val, desc='Validation round', unit='img', leave=False) as pbar:\n",
    "        for batch in loader:\n",
    "            imgs = batch['image']\n",
    "            true_masks = batch['mask']\n",
    "\n",
    "            imgs = imgs.to(device=device, dtype=torch.float32)\n",
    "            mask_type = torch.float32 if cfg.n_classes == 1 else torch.long\n",
    "            true_masks = true_masks.to(device=device, dtype=mask_type)\n",
    "\n",
    "            # compute loss\n",
    "            if cfg.deepsupervision:\n",
    "                masks_preds = net(imgs)\n",
    "                loss = 0\n",
    "                for masks_pred in masks_preds:\n",
    "                    print(masks_pred.shape)\n",
    "                    tot_cross_entropy = 0\n",
    "                    for true_mask, pred in zip(true_masks, masks_pred):\n",
    "                        pred = (pred > cfg.out_threshold).float()\n",
    "                        if cfg.n_classes > 1:\n",
    "                            sub_cross_entropy = F.cross_entropy(pred.unsqueeze(dim=0), true_mask.unsqueeze(dim=0).squeeze(1)).item()\n",
    "                        else:\n",
    "                            sub_cross_entropy = dice_coeff(pred, true_mask.squeeze(dim=1)).item()\n",
    "                        tot_cross_entropy += sub_cross_entropy\n",
    "                    tot_cross_entropy = tot_cross_entropy / len(masks_preds)\n",
    "                    tot += tot_cross_entropy\n",
    "            else:\n",
    "                masks_pred = net(imgs)\n",
    "                for true_mask, pred in zip(true_masks, masks_pred):\n",
    "                    pred = (pred > cfg.out_threshold).float()\n",
    "                    if cfg.n_classes > 1:\n",
    "                        tot += F.cross_entropy(pred.unsqueeze(dim=0), true_mask.unsqueeze(dim=0).squeeze(1)).item()\n",
    "                    else:\n",
    "                        tot += dice_coeff(pred, true_mask.squeeze(dim=1)).item()\n",
    "\n",
    "            pbar.update(imgs.shape[0])\n",
    "\n",
    "    return tot / n_val\n"
   ]
  },
  {
   "cell_type": "code",
   "execution_count": 3,
   "id": "3db6d128",
   "metadata": {},
   "outputs": [],
   "source": [
    "cfg = UNetConfig()\n",
    "\n",
    "def inference_one(net, image, device):\n",
    "    net.eval()\n",
    "\n",
    "    img = torch.from_numpy(BasicDataset.preprocess(image, cfg.scale))\n",
    "\n",
    "    img = img.unsqueeze(0)\n",
    "    img = img.to(device=device, dtype=torch.float32)\n",
    "\n",
    "    with torch.no_grad():\n",
    "        output = net(img)\n",
    "        if cfg.deepsupervision:\n",
    "            output = output[-1]\n",
    "\n",
    "        if cfg.n_classes > 1:\n",
    "            probs = F.softmax(output, dim=1)\n",
    "        else:\n",
    "            probs = torch.sigmoid(output)\n",
    "\n",
    "        probs = probs.squeeze(0)\n",
    "\n",
    "        tf = transforms.Compose(\n",
    "            [\n",
    "                transforms.ToPILImage(),\n",
    "                transforms.Resize((image.size[1], image.size[0])),\n",
    "                transforms.ToTensor()\n",
    "            ]\n",
    "        )\n",
    "        \n",
    "        if cfg.n_classes == 1:\n",
    "            probs = tf(probs.cpu())\n",
    "            mask = probs.squeeze().cpu().numpy()\n",
    "            return mask > cfg.out_threshold\n",
    "        else:\n",
    "            masks = []\n",
    "            for prob in probs:\n",
    "                prob = tf(prob.cpu())\n",
    "                mask = prob.squeeze().cpu().numpy()\n",
    "                mask = mask > cfg.out_threshold\n",
    "                masks.append(mask)\n",
    "            return masks"
   ]
  },
  {
   "cell_type": "code",
   "execution_count": 16,
   "id": "c9c1dca2",
   "metadata": {},
   "outputs": [],
   "source": [
    "all_images = r\"C:\\Users\\Groh\\Desktop\\TrainingDigEndo\\images_all\"\n",
    "sessions_to_test = [\"09\",\"10\"]"
   ]
  },
  {
   "cell_type": "code",
   "execution_count": 14,
   "id": "980ef4ba",
   "metadata": {},
   "outputs": [
    {
     "name": "stdout",
     "output_type": "stream",
     "text": [
      "('aicm09', 'aicm10')\n"
     ]
    }
   ],
   "source": [
    "ttt = [\"09\",\"10\"]\n",
    "print(tuple([\"aicm\"+i for i in ttt]))"
   ]
  },
  {
   "cell_type": "code",
   "execution_count": 22,
   "id": "64502f3c",
   "metadata": {},
   "outputs": [],
   "source": [
    "def getSelectedFilenames(directory, sessions):\n",
    "  all_filenames = list(sorted(os.listdir(directory)));\n",
    "  #print(all_filenames)\n",
    "  selected_filenames = []\n",
    "  \n",
    "  for session in sessions:\n",
    "    string = 'aicm' + session;\n",
    "    for name in all_filenames:\n",
    "      if string in name:\n",
    "       selected_filenames.append(name);\n",
    "\n",
    "  #print(selected_filenames)   \n",
    "  return selected_filenames;\n",
    "\n",
    "#getSelectedFilenames(dir_img, ['05_02', '06']);"
   ]
  },
  {
   "cell_type": "code",
   "execution_count": 24,
   "id": "e10608af",
   "metadata": {},
   "outputs": [],
   "source": [
    "dir_img = r\"C:\\Users\\Groh\\Desktop\\TrainingDigEndo\\images_training\"\n",
    "dir_mask = r\"C:\\Users\\Groh\\Desktop\\TrainingDigEndo\\masks_grayscale\""
   ]
  },
  {
   "cell_type": "code",
   "execution_count": 28,
   "id": "e45897f3",
   "metadata": {},
   "outputs": [],
   "source": [
    "class CustomDataset(Dataset):\n",
    "    def __init__(self, images_directory, masks_directory, sessions, transform=None):   \n",
    "        self.images_filenames = getSelectedFilenames(images_directory, sessions);\n",
    "        self.images_directory = images_directory;\n",
    "        self.masks_directory = masks_directory;\n",
    "        self.transform = transform;\n",
    "        self.sessions = sessions  \n",
    "\n",
    "        #print(self.images_filenames[0])             \n",
    "\n",
    "    def __len__(self):\n",
    "        return len(self.images_filenames)\n",
    "\n",
    "    def __getitem__(self, idx):\n",
    "        #print(self.images_filenames)\n",
    "        image_filename = self.images_filenames[idx]\n",
    "\n",
    "        pathImage = os.path.join(self.images_directory, image_filename);\n",
    "        pathMask = os.path.join(self.masks_directory, image_filename);\n",
    "        \n",
    "        pillow_image = Image.open(pathImage)\n",
    "        image = np.array(pillow_image)\n",
    "        pillow_mask = Image.open(pathMask)\n",
    "        mask = np.array(pillow_mask)\n",
    "        \n",
    "        if self.transform is not None:\n",
    "          transformed = self.transform(image=image, mask=mask)\n",
    "          image = transformed[\"image\"]\n",
    "          mask = transformed[\"mask\"]\n",
    "          image = np.array(image)\n",
    "          mask = np.array(mask)\n",
    "         \n",
    "          #to get channels_first format\n",
    "          #image_np = moveaxis(image_np, 2,0)\n",
    "                    \n",
    "         \n",
    "          #image_tensor = torch.from_numpy(image_np).type(torch.FloatTensor)\n",
    "          #mask_tensor = torch.from_numpy(mask_np).type(torch.FloatTensor)\n",
    "\n",
    "        image = func.to_tensor(np.array(image))\n",
    "        mask = func.to_tensor(np.array(mask)) \n",
    "\n",
    "\n",
    "        return {\n",
    "            'image': image,\n",
    "            'mask':  mask\n",
    "        } \n",
    "\n",
    "    def preprocess(cls, pil_img, scale):\n",
    "        w, h = pil_img.size\n",
    "        newW, newH = int(scale * w), int(scale * h)\n",
    "        assert newW > 0 and newH > 0, 'Scale is too small'\n",
    "        pil_img = pil_img.resize((newW, newH))\n",
    "\n",
    "        img_nd = np.array(pil_img)\n",
    "\n",
    "        if len(img_nd.shape) == 2:\n",
    "            img_nd = np.expand_dims(img_nd, axis=2)\n",
    "\n",
    "        # HWC to CHW\n",
    "        img_trans = img_nd.transpose((2, 0, 1))\n",
    "        if img_trans.max() > 1:\n",
    "            img_trans = img_trans / 255\n",
    "\n",
    "        return img_trans         \n",
    "        \n",
    "val_dataset = CustomDataset(dir_img, dir_mask, [\"09\",\"10\"])"
   ]
  },
  {
   "cell_type": "code",
   "execution_count": null,
   "id": "090ac0e9",
   "metadata": {},
   "outputs": [],
   "source": []
  },
  {
   "cell_type": "code",
   "execution_count": 35,
   "id": "2129619d",
   "metadata": {
    "collapsed": true
   },
   "outputs": [
    {
     "name": "stderr",
     "output_type": "stream",
     "text": [
      "Validation round:   1%|▌                                                              | 1/123 [00:01<03:45,  1.85s/img]"
     ]
    },
    {
     "name": "stdout",
     "output_type": "stream",
     "text": [
      "torch.Size([1, 6, 432, 768])\n",
      "torch.Size([1, 6, 432, 768])\n",
      "torch.Size([1, 6, 432, 768])\n",
      "torch.Size([1, 6, 432, 768])\n"
     ]
    },
    {
     "name": "stderr",
     "output_type": "stream",
     "text": [
      "\r",
      "Validation round:   2%|█                                                              | 2/123 [00:03<03:52,  1.92s/img]"
     ]
    },
    {
     "name": "stdout",
     "output_type": "stream",
     "text": [
      "torch.Size([1, 6, 432, 768])\n",
      "torch.Size([1, 6, 432, 768])\n",
      "torch.Size([1, 6, 432, 768])\n",
      "torch.Size([1, 6, 432, 768])\n"
     ]
    },
    {
     "name": "stderr",
     "output_type": "stream",
     "text": [
      "\r",
      "Validation round:   2%|█▌                                                             | 3/123 [00:05<03:51,  1.93s/img]"
     ]
    },
    {
     "name": "stdout",
     "output_type": "stream",
     "text": [
      "torch.Size([1, 6, 432, 768])\n",
      "torch.Size([1, 6, 432, 768])\n",
      "torch.Size([1, 6, 432, 768])\n",
      "torch.Size([1, 6, 432, 768])\n"
     ]
    },
    {
     "name": "stderr",
     "output_type": "stream",
     "text": [
      "\r",
      "Validation round:   3%|██                                                             | 4/123 [00:07<03:51,  1.94s/img]"
     ]
    },
    {
     "name": "stdout",
     "output_type": "stream",
     "text": [
      "torch.Size([1, 6, 432, 768])\n",
      "torch.Size([1, 6, 432, 768])\n",
      "torch.Size([1, 6, 432, 768])\n",
      "torch.Size([1, 6, 432, 768])\n"
     ]
    },
    {
     "name": "stderr",
     "output_type": "stream",
     "text": [
      "\r",
      "Validation round:   4%|██▌                                                            | 5/123 [00:09<03:48,  1.94s/img]"
     ]
    },
    {
     "name": "stdout",
     "output_type": "stream",
     "text": [
      "torch.Size([1, 6, 432, 768])\n",
      "torch.Size([1, 6, 432, 768])\n",
      "torch.Size([1, 6, 432, 768])\n",
      "torch.Size([1, 6, 432, 768])\n"
     ]
    },
    {
     "name": "stderr",
     "output_type": "stream",
     "text": [
      "\r",
      "Validation round:   5%|███                                                            | 6/123 [00:11<03:48,  1.95s/img]"
     ]
    },
    {
     "name": "stdout",
     "output_type": "stream",
     "text": [
      "torch.Size([1, 6, 432, 768])\n",
      "torch.Size([1, 6, 432, 768])\n",
      "torch.Size([1, 6, 432, 768])\n",
      "torch.Size([1, 6, 432, 768])\n"
     ]
    },
    {
     "name": "stderr",
     "output_type": "stream",
     "text": [
      "                                                                                                                       \r"
     ]
    },
    {
     "ename": "KeyboardInterrupt",
     "evalue": "",
     "output_type": "error",
     "traceback": [
      "\u001b[1;31m---------------------------------------------------------------------------\u001b[0m",
      "\u001b[1;31mKeyboardInterrupt\u001b[0m                         Traceback (most recent call last)",
      "\u001b[1;32m~\\AppData\\Local\\Temp/ipykernel_14796/2629307585.py\u001b[0m in \u001b[0;36m<module>\u001b[1;34m\u001b[0m\n\u001b[0;32m     12\u001b[0m \u001b[0mdevice\u001b[0m \u001b[1;33m=\u001b[0m \u001b[0mtorch\u001b[0m\u001b[1;33m.\u001b[0m\u001b[0mdevice\u001b[0m\u001b[1;33m(\u001b[0m\u001b[1;34m'cuda'\u001b[0m \u001b[1;32mif\u001b[0m \u001b[0mtorch\u001b[0m\u001b[1;33m.\u001b[0m\u001b[0mcuda\u001b[0m\u001b[1;33m.\u001b[0m\u001b[0mis_available\u001b[0m\u001b[1;33m(\u001b[0m\u001b[1;33m)\u001b[0m \u001b[1;32melse\u001b[0m \u001b[1;34m'cpu'\u001b[0m\u001b[1;33m)\u001b[0m\u001b[1;33m\u001b[0m\u001b[1;33m\u001b[0m\u001b[0m\n\u001b[0;32m     13\u001b[0m \u001b[1;33m\u001b[0m\u001b[0m\n\u001b[1;32m---> 14\u001b[1;33m \u001b[0mval_score\u001b[0m \u001b[1;33m=\u001b[0m \u001b[0meval_net\u001b[0m\u001b[1;33m(\u001b[0m\u001b[0mnet\u001b[0m\u001b[1;33m,\u001b[0m \u001b[0mval_loader\u001b[0m\u001b[1;33m,\u001b[0m \u001b[0mdevice\u001b[0m\u001b[1;33m,\u001b[0m \u001b[0mn_val\u001b[0m\u001b[1;33m,\u001b[0m \u001b[0mcfg\u001b[0m\u001b[1;33m)\u001b[0m\u001b[1;33m\u001b[0m\u001b[1;33m\u001b[0m\u001b[0m\n\u001b[0m\u001b[0;32m     15\u001b[0m \u001b[1;33m\u001b[0m\u001b[0m\n\u001b[0;32m     16\u001b[0m \u001b[0mprint\u001b[0m\u001b[1;33m(\u001b[0m\u001b[0mval_score\u001b[0m\u001b[1;33m)\u001b[0m\u001b[1;33m\u001b[0m\u001b[1;33m\u001b[0m\u001b[0m\n",
      "\u001b[1;32m~\\AppData\\Local\\Temp/ipykernel_14796/2020065102.py\u001b[0m in \u001b[0;36meval_net\u001b[1;34m(net, loader, device, n_val, cfg)\u001b[0m\n\u001b[0;32m     19\u001b[0m             \u001b[1;31m# compute loss\u001b[0m\u001b[1;33m\u001b[0m\u001b[1;33m\u001b[0m\u001b[1;33m\u001b[0m\u001b[0m\n\u001b[0;32m     20\u001b[0m             \u001b[1;32mif\u001b[0m \u001b[0mcfg\u001b[0m\u001b[1;33m.\u001b[0m\u001b[0mdeepsupervision\u001b[0m\u001b[1;33m:\u001b[0m\u001b[1;33m\u001b[0m\u001b[1;33m\u001b[0m\u001b[0m\n\u001b[1;32m---> 21\u001b[1;33m                 \u001b[0mmasks_preds\u001b[0m \u001b[1;33m=\u001b[0m \u001b[0mnet\u001b[0m\u001b[1;33m(\u001b[0m\u001b[0mimgs\u001b[0m\u001b[1;33m)\u001b[0m\u001b[1;33m\u001b[0m\u001b[1;33m\u001b[0m\u001b[0m\n\u001b[0m\u001b[0;32m     22\u001b[0m                 \u001b[0mloss\u001b[0m \u001b[1;33m=\u001b[0m \u001b[1;36m0\u001b[0m\u001b[1;33m\u001b[0m\u001b[1;33m\u001b[0m\u001b[0m\n\u001b[0;32m     23\u001b[0m                 \u001b[1;32mfor\u001b[0m \u001b[0mmasks_pred\u001b[0m \u001b[1;32min\u001b[0m \u001b[0mmasks_preds\u001b[0m\u001b[1;33m:\u001b[0m\u001b[1;33m\u001b[0m\u001b[1;33m\u001b[0m\u001b[0m\n",
      "\u001b[1;32mc:\\users\\groh\\anaconda3\\envs\\labelme\\lib\\site-packages\\torch\\nn\\modules\\module.py\u001b[0m in \u001b[0;36m_call_impl\u001b[1;34m(self, *input, **kwargs)\u001b[0m\n\u001b[0;32m    887\u001b[0m             \u001b[0mresult\u001b[0m \u001b[1;33m=\u001b[0m \u001b[0mself\u001b[0m\u001b[1;33m.\u001b[0m\u001b[0m_slow_forward\u001b[0m\u001b[1;33m(\u001b[0m\u001b[1;33m*\u001b[0m\u001b[0minput\u001b[0m\u001b[1;33m,\u001b[0m \u001b[1;33m**\u001b[0m\u001b[0mkwargs\u001b[0m\u001b[1;33m)\u001b[0m\u001b[1;33m\u001b[0m\u001b[1;33m\u001b[0m\u001b[0m\n\u001b[0;32m    888\u001b[0m         \u001b[1;32melse\u001b[0m\u001b[1;33m:\u001b[0m\u001b[1;33m\u001b[0m\u001b[1;33m\u001b[0m\u001b[0m\n\u001b[1;32m--> 889\u001b[1;33m             \u001b[0mresult\u001b[0m \u001b[1;33m=\u001b[0m \u001b[0mself\u001b[0m\u001b[1;33m.\u001b[0m\u001b[0mforward\u001b[0m\u001b[1;33m(\u001b[0m\u001b[1;33m*\u001b[0m\u001b[0minput\u001b[0m\u001b[1;33m,\u001b[0m \u001b[1;33m**\u001b[0m\u001b[0mkwargs\u001b[0m\u001b[1;33m)\u001b[0m\u001b[1;33m\u001b[0m\u001b[1;33m\u001b[0m\u001b[0m\n\u001b[0m\u001b[0;32m    890\u001b[0m         for hook in itertools.chain(\n\u001b[0;32m    891\u001b[0m                 \u001b[0m_global_forward_hooks\u001b[0m\u001b[1;33m.\u001b[0m\u001b[0mvalues\u001b[0m\u001b[1;33m(\u001b[0m\u001b[1;33m)\u001b[0m\u001b[1;33m,\u001b[0m\u001b[1;33m\u001b[0m\u001b[1;33m\u001b[0m\u001b[0m\n",
      "\u001b[1;32m~\\Documents\\GitHub\\unet-nested-multiple-classification\\unet\\model.py\u001b[0m in \u001b[0;36mforward\u001b[1;34m(self, input)\u001b[0m\n\u001b[0;32m     91\u001b[0m         \u001b[0mx0_0\u001b[0m \u001b[1;33m=\u001b[0m \u001b[0mself\u001b[0m\u001b[1;33m.\u001b[0m\u001b[0mconv0_0\u001b[0m\u001b[1;33m(\u001b[0m\u001b[0minput\u001b[0m\u001b[1;33m)\u001b[0m\u001b[1;33m\u001b[0m\u001b[1;33m\u001b[0m\u001b[0m\n\u001b[0;32m     92\u001b[0m         \u001b[0mx1_0\u001b[0m \u001b[1;33m=\u001b[0m \u001b[0mself\u001b[0m\u001b[1;33m.\u001b[0m\u001b[0mconv1_0\u001b[0m\u001b[1;33m(\u001b[0m\u001b[0mself\u001b[0m\u001b[1;33m.\u001b[0m\u001b[0mpool\u001b[0m\u001b[1;33m(\u001b[0m\u001b[0mx0_0\u001b[0m\u001b[1;33m)\u001b[0m\u001b[1;33m)\u001b[0m\u001b[1;33m\u001b[0m\u001b[1;33m\u001b[0m\u001b[0m\n\u001b[1;32m---> 93\u001b[1;33m         \u001b[0mx0_1\u001b[0m \u001b[1;33m=\u001b[0m \u001b[0mself\u001b[0m\u001b[1;33m.\u001b[0m\u001b[0mconv0_1\u001b[0m\u001b[1;33m(\u001b[0m\u001b[0mtorch\u001b[0m\u001b[1;33m.\u001b[0m\u001b[0mcat\u001b[0m\u001b[1;33m(\u001b[0m\u001b[1;33m[\u001b[0m\u001b[0mx0_0\u001b[0m\u001b[1;33m,\u001b[0m \u001b[0mself\u001b[0m\u001b[1;33m.\u001b[0m\u001b[0mup\u001b[0m\u001b[1;33m(\u001b[0m\u001b[0mx1_0\u001b[0m\u001b[1;33m)\u001b[0m\u001b[1;33m]\u001b[0m\u001b[1;33m,\u001b[0m \u001b[1;36m1\u001b[0m\u001b[1;33m)\u001b[0m\u001b[1;33m)\u001b[0m\u001b[1;33m\u001b[0m\u001b[1;33m\u001b[0m\u001b[0m\n\u001b[0m\u001b[0;32m     94\u001b[0m \u001b[1;33m\u001b[0m\u001b[0m\n\u001b[0;32m     95\u001b[0m         \u001b[0mx2_0\u001b[0m \u001b[1;33m=\u001b[0m \u001b[0mself\u001b[0m\u001b[1;33m.\u001b[0m\u001b[0mconv2_0\u001b[0m\u001b[1;33m(\u001b[0m\u001b[0mself\u001b[0m\u001b[1;33m.\u001b[0m\u001b[0mpool\u001b[0m\u001b[1;33m(\u001b[0m\u001b[0mx1_0\u001b[0m\u001b[1;33m)\u001b[0m\u001b[1;33m)\u001b[0m\u001b[1;33m\u001b[0m\u001b[1;33m\u001b[0m\u001b[0m\n",
      "\u001b[1;32mc:\\users\\groh\\anaconda3\\envs\\labelme\\lib\\site-packages\\torch\\nn\\modules\\module.py\u001b[0m in \u001b[0;36m_call_impl\u001b[1;34m(self, *input, **kwargs)\u001b[0m\n\u001b[0;32m    887\u001b[0m             \u001b[0mresult\u001b[0m \u001b[1;33m=\u001b[0m \u001b[0mself\u001b[0m\u001b[1;33m.\u001b[0m\u001b[0m_slow_forward\u001b[0m\u001b[1;33m(\u001b[0m\u001b[1;33m*\u001b[0m\u001b[0minput\u001b[0m\u001b[1;33m,\u001b[0m \u001b[1;33m**\u001b[0m\u001b[0mkwargs\u001b[0m\u001b[1;33m)\u001b[0m\u001b[1;33m\u001b[0m\u001b[1;33m\u001b[0m\u001b[0m\n\u001b[0;32m    888\u001b[0m         \u001b[1;32melse\u001b[0m\u001b[1;33m:\u001b[0m\u001b[1;33m\u001b[0m\u001b[1;33m\u001b[0m\u001b[0m\n\u001b[1;32m--> 889\u001b[1;33m             \u001b[0mresult\u001b[0m \u001b[1;33m=\u001b[0m \u001b[0mself\u001b[0m\u001b[1;33m.\u001b[0m\u001b[0mforward\u001b[0m\u001b[1;33m(\u001b[0m\u001b[1;33m*\u001b[0m\u001b[0minput\u001b[0m\u001b[1;33m,\u001b[0m \u001b[1;33m**\u001b[0m\u001b[0mkwargs\u001b[0m\u001b[1;33m)\u001b[0m\u001b[1;33m\u001b[0m\u001b[1;33m\u001b[0m\u001b[0m\n\u001b[0m\u001b[0;32m    890\u001b[0m         for hook in itertools.chain(\n\u001b[0;32m    891\u001b[0m                 \u001b[0m_global_forward_hooks\u001b[0m\u001b[1;33m.\u001b[0m\u001b[0mvalues\u001b[0m\u001b[1;33m(\u001b[0m\u001b[1;33m)\u001b[0m\u001b[1;33m,\u001b[0m\u001b[1;33m\u001b[0m\u001b[1;33m\u001b[0m\u001b[0m\n",
      "\u001b[1;32mc:\\users\\groh\\anaconda3\\envs\\labelme\\lib\\site-packages\\torch\\nn\\modules\\upsampling.py\u001b[0m in \u001b[0;36mforward\u001b[1;34m(self, input)\u001b[0m\n\u001b[0;32m    139\u001b[0m \u001b[1;33m\u001b[0m\u001b[0m\n\u001b[0;32m    140\u001b[0m     \u001b[1;32mdef\u001b[0m \u001b[0mforward\u001b[0m\u001b[1;33m(\u001b[0m\u001b[0mself\u001b[0m\u001b[1;33m,\u001b[0m \u001b[0minput\u001b[0m\u001b[1;33m:\u001b[0m \u001b[0mTensor\u001b[0m\u001b[1;33m)\u001b[0m \u001b[1;33m->\u001b[0m \u001b[0mTensor\u001b[0m\u001b[1;33m:\u001b[0m\u001b[1;33m\u001b[0m\u001b[1;33m\u001b[0m\u001b[0m\n\u001b[1;32m--> 141\u001b[1;33m         \u001b[1;32mreturn\u001b[0m \u001b[0mF\u001b[0m\u001b[1;33m.\u001b[0m\u001b[0minterpolate\u001b[0m\u001b[1;33m(\u001b[0m\u001b[0minput\u001b[0m\u001b[1;33m,\u001b[0m \u001b[0mself\u001b[0m\u001b[1;33m.\u001b[0m\u001b[0msize\u001b[0m\u001b[1;33m,\u001b[0m \u001b[0mself\u001b[0m\u001b[1;33m.\u001b[0m\u001b[0mscale_factor\u001b[0m\u001b[1;33m,\u001b[0m \u001b[0mself\u001b[0m\u001b[1;33m.\u001b[0m\u001b[0mmode\u001b[0m\u001b[1;33m,\u001b[0m \u001b[0mself\u001b[0m\u001b[1;33m.\u001b[0m\u001b[0malign_corners\u001b[0m\u001b[1;33m)\u001b[0m\u001b[1;33m\u001b[0m\u001b[1;33m\u001b[0m\u001b[0m\n\u001b[0m\u001b[0;32m    142\u001b[0m \u001b[1;33m\u001b[0m\u001b[0m\n\u001b[0;32m    143\u001b[0m     \u001b[1;32mdef\u001b[0m \u001b[0mextra_repr\u001b[0m\u001b[1;33m(\u001b[0m\u001b[0mself\u001b[0m\u001b[1;33m)\u001b[0m \u001b[1;33m->\u001b[0m \u001b[0mstr\u001b[0m\u001b[1;33m:\u001b[0m\u001b[1;33m\u001b[0m\u001b[1;33m\u001b[0m\u001b[0m\n",
      "\u001b[1;32mc:\\users\\groh\\anaconda3\\envs\\labelme\\lib\\site-packages\\torch\\nn\\functional.py\u001b[0m in \u001b[0;36minterpolate\u001b[1;34m(input, size, scale_factor, mode, align_corners, recompute_scale_factor)\u001b[0m\n\u001b[0;32m   3552\u001b[0m     \u001b[1;32mif\u001b[0m \u001b[0minput\u001b[0m\u001b[1;33m.\u001b[0m\u001b[0mdim\u001b[0m\u001b[1;33m(\u001b[0m\u001b[1;33m)\u001b[0m \u001b[1;33m==\u001b[0m \u001b[1;36m4\u001b[0m \u001b[1;32mand\u001b[0m \u001b[0mmode\u001b[0m \u001b[1;33m==\u001b[0m \u001b[1;34m\"bilinear\"\u001b[0m\u001b[1;33m:\u001b[0m\u001b[1;33m\u001b[0m\u001b[1;33m\u001b[0m\u001b[0m\n\u001b[0;32m   3553\u001b[0m         \u001b[1;32massert\u001b[0m \u001b[0malign_corners\u001b[0m \u001b[1;32mis\u001b[0m \u001b[1;32mnot\u001b[0m \u001b[1;32mNone\u001b[0m\u001b[1;33m\u001b[0m\u001b[1;33m\u001b[0m\u001b[0m\n\u001b[1;32m-> 3554\u001b[1;33m         \u001b[1;32mreturn\u001b[0m \u001b[0mtorch\u001b[0m\u001b[1;33m.\u001b[0m\u001b[0m_C\u001b[0m\u001b[1;33m.\u001b[0m\u001b[0m_nn\u001b[0m\u001b[1;33m.\u001b[0m\u001b[0mupsample_bilinear2d\u001b[0m\u001b[1;33m(\u001b[0m\u001b[0minput\u001b[0m\u001b[1;33m,\u001b[0m \u001b[0moutput_size\u001b[0m\u001b[1;33m,\u001b[0m \u001b[0malign_corners\u001b[0m\u001b[1;33m,\u001b[0m \u001b[0mscale_factors\u001b[0m\u001b[1;33m)\u001b[0m\u001b[1;33m\u001b[0m\u001b[1;33m\u001b[0m\u001b[0m\n\u001b[0m\u001b[0;32m   3555\u001b[0m     \u001b[1;32mif\u001b[0m \u001b[0minput\u001b[0m\u001b[1;33m.\u001b[0m\u001b[0mdim\u001b[0m\u001b[1;33m(\u001b[0m\u001b[1;33m)\u001b[0m \u001b[1;33m==\u001b[0m \u001b[1;36m5\u001b[0m \u001b[1;32mand\u001b[0m \u001b[0mmode\u001b[0m \u001b[1;33m==\u001b[0m \u001b[1;34m\"trilinear\"\u001b[0m\u001b[1;33m:\u001b[0m\u001b[1;33m\u001b[0m\u001b[1;33m\u001b[0m\u001b[0m\n\u001b[0;32m   3556\u001b[0m         \u001b[1;32massert\u001b[0m \u001b[0malign_corners\u001b[0m \u001b[1;32mis\u001b[0m \u001b[1;32mnot\u001b[0m \u001b[1;32mNone\u001b[0m\u001b[1;33m\u001b[0m\u001b[1;33m\u001b[0m\u001b[0m\n",
      "\u001b[1;31mKeyboardInterrupt\u001b[0m: "
     ]
    }
   ],
   "source": [
    "n_val = len(val_dataset)\n",
    "\n",
    "val = val_dataset\n",
    "\n",
    "val_loader = DataLoader(val,\n",
    "                        batch_size=cfg.batch_size,\n",
    "                        shuffle=False,\n",
    "                        num_workers=0,\n",
    "                        pin_memory=True)\n",
    "\n",
    "\n",
    "device = torch.device('cuda' if torch.cuda.is_available() else 'cpu')\n",
    "\n",
    "val_score = eval_net(net, val_loader, device, n_val, cfg)\n",
    "\n",
    "print(val_score)\n",
    "\n",
    "# net = eval(cfg.model)(cfg)\n",
    "# test_img = \n",
    "# masks_preds = net(imgs)"
   ]
  },
  {
   "cell_type": "code",
   "execution_count": 104,
   "id": "2cd7f54b",
   "metadata": {},
   "outputs": [],
   "source": [
    "def variability(mask_predic, mask_true):\n",
    "        # Check whether both images have the same input shape\n",
    "        if mask_predic.shape != mask_true.shape:\n",
    "            raise ValueError(\"The two masks have different shapes. Please adjust the shapes accordingly.\")\n",
    "        else:\n",
    "            \n",
    "            intersection=0\n",
    "            union=0\n",
    "            \n",
    "            # Calculate the intersection and the union of both masks\n",
    "            for i in range(mask_predic.shape[0]):\n",
    "                for j in range(mask_true.shape[1]):\n",
    "                    if mask_predic[i][j] and mask_true[i][j]:\n",
    "                        intersection+=1\n",
    "                    if mask_predic[i][j] or mask_true[i][j]:\n",
    "                        union+=1       \n",
    "            \n",
    "            # Return dice score, as well as intersection over union (iou)\n",
    "            # Quality metrics don't make sense, when the given class is not visible, hence the NaNs.\n",
    "            if not mask_true.any():\n",
    "                dice = np.NaN\n",
    "                iou = np.NaN\n",
    "            else:\n",
    "                dice = (2. * intersection)/(mask_predic.sum() + mask_true.sum())\n",
    "                iou = intersection/union\n",
    "        return dice, iou"
   ]
  },
  {
   "cell_type": "code",
   "execution_count": 117,
   "id": "68bff155",
   "metadata": {},
   "outputs": [
    {
     "name": "stderr",
     "output_type": "stream",
     "text": [
      "\r",
      "0it [00:00, ?it/s]"
     ]
    },
    {
     "name": "stdout",
     "output_type": "stream",
     "text": [
      "Image aicm10_02_000000.png, Class 0 --- Dice Score: 0.00198 | IOU: 0.00099\n",
      "Image aicm10_02_000000.png, Class 1 --- Dice Score: nan | IOU: nan\n",
      "Image aicm10_02_000000.png, Class 2 --- Dice Score: 0.03189 | IOU: 0.01620\n",
      "Image aicm10_02_000000.png, Class 3 --- Dice Score: nan | IOU: nan\n"
     ]
    },
    {
     "name": "stderr",
     "output_type": "stream",
     "text": [
      "\r",
      "1it [00:02,  2.93s/it]"
     ]
    },
    {
     "name": "stdout",
     "output_type": "stream",
     "text": [
      "Image aicm10_02_000000.png, Class 4 --- Dice Score: nan | IOU: nan\n",
      "Image aicm10_02_000000.png, Class 5 --- Dice Score: nan | IOU: nan\n",
      "Image aicm10_02_000001.png, Class 0 --- Dice Score: 0.00473 | IOU: 0.00237\n",
      "Image aicm10_02_000001.png, Class 1 --- Dice Score: nan | IOU: nan\n",
      "Image aicm10_02_000001.png, Class 2 --- Dice Score: 0.03803 | IOU: 0.01938\n",
      "Image aicm10_02_000001.png, Class 3 --- Dice Score: nan | IOU: nan\n"
     ]
    },
    {
     "name": "stderr",
     "output_type": "stream",
     "text": [
      "\r",
      "2it [00:05,  2.96s/it]"
     ]
    },
    {
     "name": "stdout",
     "output_type": "stream",
     "text": [
      "Image aicm10_02_000001.png, Class 4 --- Dice Score: nan | IOU: nan\n",
      "Image aicm10_02_000001.png, Class 5 --- Dice Score: nan | IOU: nan\n",
      "Image aicm10_02_000004.png, Class 0 --- Dice Score: 0.01222 | IOU: 0.00615\n",
      "Image aicm10_02_000004.png, Class 1 --- Dice Score: nan | IOU: nan\n",
      "Image aicm10_02_000004.png, Class 2 --- Dice Score: 0.00458 | IOU: 0.00229\n",
      "Image aicm10_02_000004.png, Class 3 --- Dice Score: nan | IOU: nan\n"
     ]
    },
    {
     "name": "stderr",
     "output_type": "stream",
     "text": [
      "\r",
      "3it [00:08,  2.96s/it]"
     ]
    },
    {
     "name": "stdout",
     "output_type": "stream",
     "text": [
      "Image aicm10_02_000004.png, Class 4 --- Dice Score: nan | IOU: nan\n",
      "Image aicm10_02_000004.png, Class 5 --- Dice Score: nan | IOU: nan\n",
      "Image aicm10_02_000005.png, Class 0 --- Dice Score: 0.03226 | IOU: 0.01639\n",
      "Image aicm10_02_000005.png, Class 1 --- Dice Score: nan | IOU: nan\n",
      "Image aicm10_02_000005.png, Class 2 --- Dice Score: 0.00199 | IOU: 0.00100\n",
      "Image aicm10_02_000005.png, Class 3 --- Dice Score: nan | IOU: nan\n"
     ]
    },
    {
     "name": "stderr",
     "output_type": "stream",
     "text": [
      "\r",
      "4it [00:11,  2.96s/it]"
     ]
    },
    {
     "name": "stdout",
     "output_type": "stream",
     "text": [
      "Image aicm10_02_000005.png, Class 4 --- Dice Score: nan | IOU: nan\n",
      "Image aicm10_02_000005.png, Class 5 --- Dice Score: nan | IOU: nan\n",
      "Image aicm10_02_000015.png, Class 0 --- Dice Score: 0.00179 | IOU: 0.00090\n",
      "Image aicm10_02_000015.png, Class 1 --- Dice Score: nan | IOU: nan\n",
      "Image aicm10_02_000015.png, Class 2 --- Dice Score: 0.02589 | IOU: 0.01311\n",
      "Image aicm10_02_000015.png, Class 3 --- Dice Score: nan | IOU: nan\n"
     ]
    },
    {
     "name": "stderr",
     "output_type": "stream",
     "text": [
      "\r",
      "5it [00:14,  2.97s/it]"
     ]
    },
    {
     "name": "stdout",
     "output_type": "stream",
     "text": [
      "Image aicm10_02_000015.png, Class 4 --- Dice Score: nan | IOU: nan\n",
      "Image aicm10_02_000015.png, Class 5 --- Dice Score: nan | IOU: nan\n",
      "Image aicm10_02_000016.png, Class 0 --- Dice Score: 0.00989 | IOU: 0.00497\n",
      "Image aicm10_02_000016.png, Class 1 --- Dice Score: nan | IOU: nan\n",
      "Image aicm10_02_000016.png, Class 2 --- Dice Score: 0.00209 | IOU: 0.00104\n",
      "Image aicm10_02_000016.png, Class 3 --- Dice Score: nan | IOU: nan\n"
     ]
    },
    {
     "name": "stderr",
     "output_type": "stream",
     "text": [
      "\r",
      "6it [00:17,  2.97s/it]"
     ]
    },
    {
     "name": "stdout",
     "output_type": "stream",
     "text": [
      "Image aicm10_02_000016.png, Class 4 --- Dice Score: nan | IOU: nan\n",
      "Image aicm10_02_000016.png, Class 5 --- Dice Score: nan | IOU: nan\n",
      "Image aicm10_02_000018.png, Class 0 --- Dice Score: 0.01166 | IOU: 0.00586\n",
      "Image aicm10_02_000018.png, Class 1 --- Dice Score: nan | IOU: nan\n",
      "Image aicm10_02_000018.png, Class 2 --- Dice Score: 0.00513 | IOU: 0.00257\n",
      "Image aicm10_02_000018.png, Class 3 --- Dice Score: nan | IOU: nan\n"
     ]
    },
    {
     "name": "stderr",
     "output_type": "stream",
     "text": [
      "\r",
      "7it [00:20,  2.96s/it]"
     ]
    },
    {
     "name": "stdout",
     "output_type": "stream",
     "text": [
      "Image aicm10_02_000018.png, Class 4 --- Dice Score: nan | IOU: nan\n",
      "Image aicm10_02_000018.png, Class 5 --- Dice Score: nan | IOU: nan\n",
      "Image aicm10_02_000021.png, Class 0 --- Dice Score: 0.00619 | IOU: 0.00310\n",
      "Image aicm10_02_000021.png, Class 1 --- Dice Score: nan | IOU: nan\n",
      "Image aicm10_02_000021.png, Class 2 --- Dice Score: nan | IOU: nan\n",
      "Image aicm10_02_000021.png, Class 3 --- Dice Score: nan | IOU: nan\n"
     ]
    },
    {
     "name": "stderr",
     "output_type": "stream",
     "text": [
      "\r",
      "8it [00:23,  2.95s/it]"
     ]
    },
    {
     "name": "stdout",
     "output_type": "stream",
     "text": [
      "Image aicm10_02_000021.png, Class 4 --- Dice Score: nan | IOU: nan\n",
      "Image aicm10_02_000021.png, Class 5 --- Dice Score: nan | IOU: nan\n",
      "Image aicm10_02_000029.png, Class 0 --- Dice Score: 0.01207 | IOU: 0.00607\n",
      "Image aicm10_02_000029.png, Class 1 --- Dice Score: nan | IOU: nan\n",
      "Image aicm10_02_000029.png, Class 2 --- Dice Score: 0.00000 | IOU: 0.00000\n",
      "Image aicm10_02_000029.png, Class 3 --- Dice Score: nan | IOU: nan\n"
     ]
    },
    {
     "name": "stderr",
     "output_type": "stream",
     "text": [
      "\r",
      "9it [00:26,  2.95s/it]"
     ]
    },
    {
     "name": "stdout",
     "output_type": "stream",
     "text": [
      "Image aicm10_02_000029.png, Class 4 --- Dice Score: nan | IOU: nan\n",
      "Image aicm10_02_000029.png, Class 5 --- Dice Score: nan | IOU: nan\n",
      "Image aicm10_02_000030.png, Class 0 --- Dice Score: 0.00190 | IOU: 0.00095\n",
      "Image aicm10_02_000030.png, Class 1 --- Dice Score: nan | IOU: nan\n",
      "Image aicm10_02_000030.png, Class 2 --- Dice Score: 0.00875 | IOU: 0.00439\n",
      "Image aicm10_02_000030.png, Class 3 --- Dice Score: nan | IOU: nan\n"
     ]
    },
    {
     "name": "stderr",
     "output_type": "stream",
     "text": [
      "\r",
      "10it [00:29,  2.96s/it]"
     ]
    },
    {
     "name": "stdout",
     "output_type": "stream",
     "text": [
      "Image aicm10_02_000030.png, Class 4 --- Dice Score: nan | IOU: nan\n",
      "Image aicm10_02_000030.png, Class 5 --- Dice Score: nan | IOU: nan\n",
      "Image aicm10_02_000033.png, Class 0 --- Dice Score: 0.00054 | IOU: 0.00027\n",
      "Image aicm10_02_000033.png, Class 1 --- Dice Score: nan | IOU: nan\n",
      "Image aicm10_02_000033.png, Class 2 --- Dice Score: 0.13634 | IOU: 0.07316\n",
      "Image aicm10_02_000033.png, Class 3 --- Dice Score: nan | IOU: nan\n"
     ]
    },
    {
     "name": "stderr",
     "output_type": "stream",
     "text": [
      "\r",
      "11it [00:32,  2.97s/it]"
     ]
    },
    {
     "name": "stdout",
     "output_type": "stream",
     "text": [
      "Image aicm10_02_000033.png, Class 4 --- Dice Score: nan | IOU: nan\n",
      "Image aicm10_02_000033.png, Class 5 --- Dice Score: nan | IOU: nan\n",
      "Image aicm10_02_000034.png, Class 0 --- Dice Score: 0.00076 | IOU: 0.00038\n",
      "Image aicm10_02_000034.png, Class 1 --- Dice Score: nan | IOU: nan\n",
      "Image aicm10_02_000034.png, Class 2 --- Dice Score: 0.00032 | IOU: 0.00016\n",
      "Image aicm10_02_000034.png, Class 3 --- Dice Score: nan | IOU: nan\n"
     ]
    },
    {
     "name": "stderr",
     "output_type": "stream",
     "text": [
      "\r",
      "12it [00:35,  2.96s/it]"
     ]
    },
    {
     "name": "stdout",
     "output_type": "stream",
     "text": [
      "Image aicm10_02_000034.png, Class 4 --- Dice Score: nan | IOU: nan\n",
      "Image aicm10_02_000034.png, Class 5 --- Dice Score: nan | IOU: nan\n",
      "Image aicm10_02_000040.png, Class 0 --- Dice Score: 0.01425 | IOU: 0.00717\n",
      "Image aicm10_02_000040.png, Class 1 --- Dice Score: nan | IOU: nan\n",
      "Image aicm10_02_000040.png, Class 2 --- Dice Score: 0.03052 | IOU: 0.01550\n",
      "Image aicm10_02_000040.png, Class 3 --- Dice Score: nan | IOU: nan\n"
     ]
    },
    {
     "name": "stderr",
     "output_type": "stream",
     "text": [
      "\r",
      "13it [00:38,  2.95s/it]"
     ]
    },
    {
     "name": "stdout",
     "output_type": "stream",
     "text": [
      "Image aicm10_02_000040.png, Class 4 --- Dice Score: nan | IOU: nan\n",
      "Image aicm10_02_000040.png, Class 5 --- Dice Score: nan | IOU: nan\n",
      "Image aicm10_02_000043.png, Class 0 --- Dice Score: 0.00999 | IOU: 0.00502\n",
      "Image aicm10_02_000043.png, Class 1 --- Dice Score: nan | IOU: nan\n",
      "Image aicm10_02_000043.png, Class 2 --- Dice Score: 0.08477 | IOU: 0.04426\n",
      "Image aicm10_02_000043.png, Class 3 --- Dice Score: nan | IOU: nan\n"
     ]
    },
    {
     "name": "stderr",
     "output_type": "stream",
     "text": [
      "\r",
      "14it [00:41,  2.95s/it]"
     ]
    },
    {
     "name": "stdout",
     "output_type": "stream",
     "text": [
      "Image aicm10_02_000043.png, Class 4 --- Dice Score: nan | IOU: nan\n",
      "Image aicm10_02_000043.png, Class 5 --- Dice Score: nan | IOU: nan\n",
      "Image aicm10_02_000044.png, Class 0 --- Dice Score: 0.01048 | IOU: 0.00527\n",
      "Image aicm10_02_000044.png, Class 1 --- Dice Score: nan | IOU: nan\n",
      "Image aicm10_02_000044.png, Class 2 --- Dice Score: 0.00189 | IOU: 0.00095\n",
      "Image aicm10_02_000044.png, Class 3 --- Dice Score: nan | IOU: nan\n"
     ]
    },
    {
     "name": "stderr",
     "output_type": "stream",
     "text": [
      "\r",
      "15it [00:44,  2.97s/it]"
     ]
    },
    {
     "name": "stdout",
     "output_type": "stream",
     "text": [
      "Image aicm10_02_000044.png, Class 4 --- Dice Score: nan | IOU: nan\n",
      "Image aicm10_02_000044.png, Class 5 --- Dice Score: nan | IOU: nan\n",
      "Image aicm10_02_000045.png, Class 0 --- Dice Score: 0.00213 | IOU: 0.00107\n",
      "Image aicm10_02_000045.png, Class 1 --- Dice Score: nan | IOU: nan\n",
      "Image aicm10_02_000045.png, Class 2 --- Dice Score: 0.00169 | IOU: 0.00084\n",
      "Image aicm10_02_000045.png, Class 3 --- Dice Score: nan | IOU: nan\n"
     ]
    },
    {
     "name": "stderr",
     "output_type": "stream",
     "text": [
      "\r",
      "16it [00:47,  3.01s/it]"
     ]
    },
    {
     "name": "stdout",
     "output_type": "stream",
     "text": [
      "Image aicm10_02_000045.png, Class 4 --- Dice Score: nan | IOU: nan\n",
      "Image aicm10_02_000045.png, Class 5 --- Dice Score: nan | IOU: nan\n",
      "Image aicm10_02_000053.png, Class 0 --- Dice Score: 0.00077 | IOU: 0.00038\n",
      "Image aicm10_02_000053.png, Class 1 --- Dice Score: nan | IOU: nan\n",
      "Image aicm10_02_000053.png, Class 2 --- Dice Score: 0.00541 | IOU: 0.00271\n",
      "Image aicm10_02_000053.png, Class 3 --- Dice Score: nan | IOU: nan\n"
     ]
    },
    {
     "name": "stderr",
     "output_type": "stream",
     "text": [
      "\r",
      "17it [00:50,  3.04s/it]"
     ]
    },
    {
     "name": "stdout",
     "output_type": "stream",
     "text": [
      "Image aicm10_02_000053.png, Class 4 --- Dice Score: nan | IOU: nan\n",
      "Image aicm10_02_000053.png, Class 5 --- Dice Score: nan | IOU: nan\n",
      "Image aicm10_02_000054.png, Class 0 --- Dice Score: 0.00027 | IOU: 0.00014\n",
      "Image aicm10_02_000054.png, Class 1 --- Dice Score: nan | IOU: nan\n",
      "Image aicm10_02_000054.png, Class 2 --- Dice Score: 0.00860 | IOU: 0.00432\n",
      "Image aicm10_02_000054.png, Class 3 --- Dice Score: nan | IOU: nan\n"
     ]
    },
    {
     "name": "stderr",
     "output_type": "stream",
     "text": [
      "\r",
      "18it [00:53,  3.05s/it]"
     ]
    },
    {
     "name": "stdout",
     "output_type": "stream",
     "text": [
      "Image aicm10_02_000054.png, Class 4 --- Dice Score: nan | IOU: nan\n",
      "Image aicm10_02_000054.png, Class 5 --- Dice Score: nan | IOU: nan\n",
      "Image aicm10_02_000078.png, Class 0 --- Dice Score: 0.00450 | IOU: 0.00225\n",
      "Image aicm10_02_000078.png, Class 1 --- Dice Score: nan | IOU: nan\n",
      "Image aicm10_02_000078.png, Class 2 --- Dice Score: nan | IOU: nan\n",
      "Image aicm10_02_000078.png, Class 3 --- Dice Score: nan | IOU: nan\n"
     ]
    },
    {
     "name": "stderr",
     "output_type": "stream",
     "text": [
      "\r",
      "19it [00:56,  3.06s/it]"
     ]
    },
    {
     "name": "stdout",
     "output_type": "stream",
     "text": [
      "Image aicm10_02_000078.png, Class 4 --- Dice Score: nan | IOU: nan\n",
      "Image aicm10_02_000078.png, Class 5 --- Dice Score: nan | IOU: nan\n",
      "Image aicm10_02_000092.png, Class 0 --- Dice Score: 0.00046 | IOU: 0.00023\n",
      "Image aicm10_02_000092.png, Class 1 --- Dice Score: nan | IOU: nan\n",
      "Image aicm10_02_000092.png, Class 2 --- Dice Score: nan | IOU: nan\n",
      "Image aicm10_02_000092.png, Class 3 --- Dice Score: nan | IOU: nan\n"
     ]
    },
    {
     "name": "stderr",
     "output_type": "stream",
     "text": [
      "\r",
      "20it [00:59,  3.07s/it]"
     ]
    },
    {
     "name": "stdout",
     "output_type": "stream",
     "text": [
      "Image aicm10_02_000092.png, Class 4 --- Dice Score: nan | IOU: nan\n",
      "Image aicm10_02_000092.png, Class 5 --- Dice Score: nan | IOU: nan\n",
      "Image aicm10_03_000000.png, Class 0 --- Dice Score: 0.00240 | IOU: 0.00120\n",
      "Image aicm10_03_000000.png, Class 1 --- Dice Score: nan | IOU: nan\n",
      "Image aicm10_03_000000.png, Class 2 --- Dice Score: 0.01533 | IOU: 0.00772\n",
      "Image aicm10_03_000000.png, Class 3 --- Dice Score: nan | IOU: nan\n"
     ]
    },
    {
     "name": "stderr",
     "output_type": "stream",
     "text": [
      "\r",
      "21it [01:02,  3.07s/it]"
     ]
    },
    {
     "name": "stdout",
     "output_type": "stream",
     "text": [
      "Image aicm10_03_000000.png, Class 4 --- Dice Score: nan | IOU: nan\n",
      "Image aicm10_03_000000.png, Class 5 --- Dice Score: nan | IOU: nan\n",
      "Image aicm10_03_000001.png, Class 0 --- Dice Score: 0.01556 | IOU: 0.00784\n",
      "Image aicm10_03_000001.png, Class 1 --- Dice Score: nan | IOU: nan\n",
      "Image aicm10_03_000001.png, Class 2 --- Dice Score: 0.00393 | IOU: 0.00197\n",
      "Image aicm10_03_000001.png, Class 3 --- Dice Score: nan | IOU: nan\n"
     ]
    },
    {
     "name": "stderr",
     "output_type": "stream",
     "text": [
      "\r",
      "22it [01:06,  3.08s/it]"
     ]
    },
    {
     "name": "stdout",
     "output_type": "stream",
     "text": [
      "Image aicm10_03_000001.png, Class 4 --- Dice Score: nan | IOU: nan\n",
      "Image aicm10_03_000001.png, Class 5 --- Dice Score: nan | IOU: nan\n",
      "Image aicm10_03_000004.png, Class 0 --- Dice Score: 0.00076 | IOU: 0.00038\n",
      "Image aicm10_03_000004.png, Class 1 --- Dice Score: nan | IOU: nan\n",
      "Image aicm10_03_000004.png, Class 2 --- Dice Score: 0.00526 | IOU: 0.00264\n",
      "Image aicm10_03_000004.png, Class 3 --- Dice Score: nan | IOU: nan\n"
     ]
    },
    {
     "name": "stderr",
     "output_type": "stream",
     "text": [
      "\r",
      "23it [01:09,  3.06s/it]"
     ]
    },
    {
     "name": "stdout",
     "output_type": "stream",
     "text": [
      "Image aicm10_03_000004.png, Class 4 --- Dice Score: nan | IOU: nan\n",
      "Image aicm10_03_000004.png, Class 5 --- Dice Score: nan | IOU: nan\n",
      "Image aicm10_03_000005.png, Class 0 --- Dice Score: 0.01047 | IOU: 0.00526\n",
      "Image aicm10_03_000005.png, Class 1 --- Dice Score: nan | IOU: nan\n",
      "Image aicm10_03_000005.png, Class 2 --- Dice Score: 0.00251 | IOU: 0.00125\n",
      "Image aicm10_03_000005.png, Class 3 --- Dice Score: nan | IOU: nan\n"
     ]
    },
    {
     "name": "stderr",
     "output_type": "stream",
     "text": [
      "\r",
      "24it [01:12,  3.05s/it]"
     ]
    },
    {
     "name": "stdout",
     "output_type": "stream",
     "text": [
      "Image aicm10_03_000005.png, Class 4 --- Dice Score: nan | IOU: nan\n",
      "Image aicm10_03_000005.png, Class 5 --- Dice Score: nan | IOU: nan\n",
      "Image aicm10_03_000006.png, Class 0 --- Dice Score: 0.01148 | IOU: 0.00577\n",
      "Image aicm10_03_000006.png, Class 1 --- Dice Score: nan | IOU: nan\n",
      "Image aicm10_03_000006.png, Class 2 --- Dice Score: nan | IOU: nan\n",
      "Image aicm10_03_000006.png, Class 3 --- Dice Score: nan | IOU: nan\n"
     ]
    },
    {
     "name": "stderr",
     "output_type": "stream",
     "text": [
      "\r",
      "25it [01:15,  3.06s/it]"
     ]
    },
    {
     "name": "stdout",
     "output_type": "stream",
     "text": [
      "Image aicm10_03_000006.png, Class 4 --- Dice Score: nan | IOU: nan\n",
      "Image aicm10_03_000006.png, Class 5 --- Dice Score: nan | IOU: nan\n",
      "Image aicm10_03_000015.png, Class 0 --- Dice Score: 0.00304 | IOU: 0.00152\n",
      "Image aicm10_03_000015.png, Class 1 --- Dice Score: nan | IOU: nan\n",
      "Image aicm10_03_000015.png, Class 2 --- Dice Score: 0.00726 | IOU: 0.00364\n",
      "Image aicm10_03_000015.png, Class 3 --- Dice Score: nan | IOU: nan\n"
     ]
    },
    {
     "name": "stderr",
     "output_type": "stream",
     "text": [
      "\r",
      "26it [01:18,  3.06s/it]"
     ]
    },
    {
     "name": "stdout",
     "output_type": "stream",
     "text": [
      "Image aicm10_03_000015.png, Class 4 --- Dice Score: nan | IOU: nan\n",
      "Image aicm10_03_000015.png, Class 5 --- Dice Score: nan | IOU: nan\n",
      "Image aicm10_03_000016.png, Class 0 --- Dice Score: 0.00399 | IOU: 0.00200\n",
      "Image aicm10_03_000016.png, Class 1 --- Dice Score: nan | IOU: nan\n",
      "Image aicm10_03_000016.png, Class 2 --- Dice Score: 0.00205 | IOU: 0.00103\n",
      "Image aicm10_03_000016.png, Class 3 --- Dice Score: nan | IOU: nan\n"
     ]
    },
    {
     "name": "stderr",
     "output_type": "stream",
     "text": [
      "\r",
      "27it [01:21,  3.07s/it]"
     ]
    },
    {
     "name": "stdout",
     "output_type": "stream",
     "text": [
      "Image aicm10_03_000016.png, Class 4 --- Dice Score: nan | IOU: nan\n",
      "Image aicm10_03_000016.png, Class 5 --- Dice Score: nan | IOU: nan\n",
      "Image aicm10_03_000018.png, Class 0 --- Dice Score: 0.01521 | IOU: 0.00766\n",
      "Image aicm10_03_000018.png, Class 1 --- Dice Score: nan | IOU: nan\n",
      "Image aicm10_03_000018.png, Class 2 --- Dice Score: 0.00255 | IOU: 0.00128\n",
      "Image aicm10_03_000018.png, Class 3 --- Dice Score: nan | IOU: nan\n"
     ]
    },
    {
     "name": "stderr",
     "output_type": "stream",
     "text": [
      "\r",
      "28it [01:24,  3.06s/it]"
     ]
    },
    {
     "name": "stdout",
     "output_type": "stream",
     "text": [
      "Image aicm10_03_000018.png, Class 4 --- Dice Score: nan | IOU: nan\n",
      "Image aicm10_03_000018.png, Class 5 --- Dice Score: nan | IOU: nan\n",
      "Image aicm10_03_000030.png, Class 0 --- Dice Score: 0.00100 | IOU: 0.00050\n",
      "Image aicm10_03_000030.png, Class 1 --- Dice Score: nan | IOU: nan\n",
      "Image aicm10_03_000030.png, Class 2 --- Dice Score: 0.01083 | IOU: 0.00544\n",
      "Image aicm10_03_000030.png, Class 3 --- Dice Score: nan | IOU: nan\n"
     ]
    },
    {
     "name": "stderr",
     "output_type": "stream",
     "text": [
      "\r",
      "29it [01:27,  3.06s/it]"
     ]
    },
    {
     "name": "stdout",
     "output_type": "stream",
     "text": [
      "Image aicm10_03_000030.png, Class 4 --- Dice Score: nan | IOU: nan\n",
      "Image aicm10_03_000030.png, Class 5 --- Dice Score: nan | IOU: nan\n",
      "Image aicm10_03_000033.png, Class 0 --- Dice Score: 0.00148 | IOU: 0.00074\n",
      "Image aicm10_03_000033.png, Class 1 --- Dice Score: nan | IOU: nan\n",
      "Image aicm10_03_000033.png, Class 2 --- Dice Score: 0.08799 | IOU: 0.04602\n",
      "Image aicm10_03_000033.png, Class 3 --- Dice Score: nan | IOU: nan\n"
     ]
    },
    {
     "name": "stderr",
     "output_type": "stream",
     "text": [
      "\r",
      "30it [01:30,  3.06s/it]"
     ]
    },
    {
     "name": "stdout",
     "output_type": "stream",
     "text": [
      "Image aicm10_03_000033.png, Class 4 --- Dice Score: nan | IOU: nan\n",
      "Image aicm10_03_000033.png, Class 5 --- Dice Score: nan | IOU: nan\n",
      "Image aicm10_03_000038.png, Class 0 --- Dice Score: 0.00362 | IOU: 0.00181\n",
      "Image aicm10_03_000038.png, Class 1 --- Dice Score: nan | IOU: nan\n",
      "Image aicm10_03_000038.png, Class 2 --- Dice Score: nan | IOU: nan\n",
      "Image aicm10_03_000038.png, Class 3 --- Dice Score: nan | IOU: nan\n"
     ]
    },
    {
     "name": "stderr",
     "output_type": "stream",
     "text": [
      "\r",
      "31it [01:33,  3.07s/it]"
     ]
    },
    {
     "name": "stdout",
     "output_type": "stream",
     "text": [
      "Image aicm10_03_000038.png, Class 4 --- Dice Score: nan | IOU: nan\n",
      "Image aicm10_03_000038.png, Class 5 --- Dice Score: nan | IOU: nan\n",
      "Image aicm10_03_000040.png, Class 0 --- Dice Score: 0.00892 | IOU: 0.00448\n",
      "Image aicm10_03_000040.png, Class 1 --- Dice Score: nan | IOU: nan\n",
      "Image aicm10_03_000040.png, Class 2 --- Dice Score: 0.02333 | IOU: 0.01180\n",
      "Image aicm10_03_000040.png, Class 3 --- Dice Score: nan | IOU: nan\n"
     ]
    },
    {
     "name": "stderr",
     "output_type": "stream",
     "text": [
      "\r",
      "32it [01:36,  3.08s/it]"
     ]
    },
    {
     "name": "stdout",
     "output_type": "stream",
     "text": [
      "Image aicm10_03_000040.png, Class 4 --- Dice Score: nan | IOU: nan\n",
      "Image aicm10_03_000040.png, Class 5 --- Dice Score: nan | IOU: nan\n",
      "Image aicm10_03_000043.png, Class 0 --- Dice Score: 0.00732 | IOU: 0.00367\n",
      "Image aicm10_03_000043.png, Class 1 --- Dice Score: nan | IOU: nan\n",
      "Image aicm10_03_000043.png, Class 2 --- Dice Score: 0.02661 | IOU: 0.01348\n",
      "Image aicm10_03_000043.png, Class 3 --- Dice Score: nan | IOU: nan\n"
     ]
    },
    {
     "name": "stderr",
     "output_type": "stream",
     "text": [
      "\r",
      "33it [01:39,  3.09s/it]"
     ]
    },
    {
     "name": "stdout",
     "output_type": "stream",
     "text": [
      "Image aicm10_03_000043.png, Class 4 --- Dice Score: nan | IOU: nan\n",
      "Image aicm10_03_000043.png, Class 5 --- Dice Score: nan | IOU: nan\n",
      "Image aicm10_03_000045.png, Class 0 --- Dice Score: 0.00261 | IOU: 0.00131\n",
      "Image aicm10_03_000045.png, Class 1 --- Dice Score: nan | IOU: nan\n",
      "Image aicm10_03_000045.png, Class 2 --- Dice Score: 0.00215 | IOU: 0.00107\n",
      "Image aicm10_03_000045.png, Class 3 --- Dice Score: nan | IOU: nan\n"
     ]
    },
    {
     "name": "stderr",
     "output_type": "stream",
     "text": [
      "\r",
      "34it [01:42,  3.07s/it]"
     ]
    },
    {
     "name": "stdout",
     "output_type": "stream",
     "text": [
      "Image aicm10_03_000045.png, Class 4 --- Dice Score: nan | IOU: nan\n",
      "Image aicm10_03_000045.png, Class 5 --- Dice Score: nan | IOU: nan\n",
      "Image aicm10_03_000053.png, Class 0 --- Dice Score: 0.00026 | IOU: 0.00013\n",
      "Image aicm10_03_000053.png, Class 1 --- Dice Score: 0.00572 | IOU: 0.00287\n",
      "Image aicm10_03_000053.png, Class 2 --- Dice Score: nan | IOU: nan\n",
      "Image aicm10_03_000053.png, Class 3 --- Dice Score: nan | IOU: nan\n"
     ]
    },
    {
     "name": "stderr",
     "output_type": "stream",
     "text": [
      "\r",
      "35it [01:45,  3.08s/it]"
     ]
    },
    {
     "name": "stdout",
     "output_type": "stream",
     "text": [
      "Image aicm10_03_000053.png, Class 4 --- Dice Score: nan | IOU: nan\n",
      "Image aicm10_03_000053.png, Class 5 --- Dice Score: nan | IOU: nan\n",
      "Image aicm10_03_000054.png, Class 0 --- Dice Score: 0.00008 | IOU: 0.00004\n",
      "Image aicm10_03_000054.png, Class 1 --- Dice Score: 0.02373 | IOU: 0.01201\n",
      "Image aicm10_03_000054.png, Class 2 --- Dice Score: nan | IOU: nan\n",
      "Image aicm10_03_000054.png, Class 3 --- Dice Score: nan | IOU: nan\n"
     ]
    },
    {
     "name": "stderr",
     "output_type": "stream",
     "text": [
      "\r",
      "36it [01:49,  3.08s/it]"
     ]
    },
    {
     "name": "stdout",
     "output_type": "stream",
     "text": [
      "Image aicm10_03_000054.png, Class 4 --- Dice Score: nan | IOU: nan\n",
      "Image aicm10_03_000054.png, Class 5 --- Dice Score: nan | IOU: nan\n",
      "Image aicm10_03_000063.png, Class 0 --- Dice Score: 0.02374 | IOU: 0.01201\n",
      "Image aicm10_03_000063.png, Class 1 --- Dice Score: nan | IOU: nan\n",
      "Image aicm10_03_000063.png, Class 2 --- Dice Score: nan | IOU: nan\n",
      "Image aicm10_03_000063.png, Class 3 --- Dice Score: nan | IOU: nan\n"
     ]
    },
    {
     "name": "stderr",
     "output_type": "stream",
     "text": [
      "37it [01:52,  3.03s/it]"
     ]
    },
    {
     "name": "stdout",
     "output_type": "stream",
     "text": [
      "Image aicm10_03_000063.png, Class 4 --- Dice Score: nan | IOU: nan\n",
      "Image aicm10_03_000063.png, Class 5 --- Dice Score: nan | IOU: nan\n",
      "\n",
      "Average Dice Score for Class 0: 0.0068 (STD: 0.0071)\n",
      "Average IOU for Class 0: 0.0034 (STD: 0.0036)\n",
      "\n",
      "Average Dice Score for Class 1: 0.0147 (STD: 0.0090)\n",
      "Average IOU for Class 1: 0.0074 (STD: 0.0046)\n",
      "\n",
      "Average Dice Score for Class 2: 0.0199 (STD: 0.0311)\n",
      "Average IOU for Class 2: 0.0103 (STD: 0.0165)\n",
      "\n",
      "Average Dice Score for Class 3: nan (STD: nan)\n",
      "Average IOU for Class 3: nan (STD: nan)\n",
      "\n",
      "Average Dice Score for Class 4: nan (STD: nan)\n",
      "Average IOU for Class 4: nan (STD: nan)\n",
      "\n",
      "Average Dice Score for Class 5: nan (STD: nan)\n",
      "Average IOU for Class 5: nan (STD: nan)\n"
     ]
    },
    {
     "name": "stderr",
     "output_type": "stream",
     "text": [
      "\n",
      "c:\\users\\groh\\anaconda3\\envs\\labelme\\lib\\site-packages\\ipykernel_launcher.py:47: RuntimeWarning: Mean of empty slice\n",
      "c:\\users\\groh\\anaconda3\\envs\\labelme\\lib\\site-packages\\ipykernel_launcher.py:48: RuntimeWarning: Mean of empty slice\n"
     ]
    }
   ],
   "source": [
    "sessions_to_test = [\"10\"]\n",
    "\n",
    "output_dir = r\"C:\\Users\\Groh\\Desktop\\Test_Results\"\n",
    "true_masks = r\"C:\\Users\\Groh\\Desktop\\TrainingDigEndo\\masks_grayscale\"\n",
    "checkpoint = r\"C:\\Users\\Groh\\Documents\\GitHub\\unet-nested-multiple-classification\\data\\checkpoints\\epoch_2.pth\"\n",
    "\n",
    "input_imgs = [i for i in os.listdir(dir_img) if os.path.isfile(os.path.join(dir_img,i)) and \\\n",
    "     i.startswith(tuple([\"aicm\"+ses for ses in sessions_to_test]))]\n",
    "\n",
    "net = eval(cfg.model)(cfg)\n",
    "logging.info(\"Loading model {}\".format(checkpoint))\n",
    "\n",
    "device = torch.device('cuda' if torch.cuda.is_available() else 'cpu')\n",
    "logging.info(f'Using device {device}')\n",
    "net.to(device=device)\n",
    "net.load_state_dict(torch.load(checkpoint, map_location=device))\n",
    "\n",
    "logging.info(\"Model loaded !\")\n",
    "\n",
    "# Preallocate arrays\n",
    "total_dice = np.zeros((cfg.n_classes, int(len(input_imgs))))\n",
    "total_dice[:] = np.NaN                  \n",
    "total_iou = np.zeros((cfg.n_classes, int(len(input_imgs))))\n",
    "total_iou[:] = np.NaN     \n",
    "\n",
    "img_count = 0\n",
    "for i, img_name in tqdm(enumerate(input_imgs)):\n",
    "    logging.info(\"\\nPredicting image {} ...\".format(img_name))\n",
    "\n",
    "    img_path = osp.join(dir_img, img_name)\n",
    "    img = Image.open(img_path)\n",
    "\n",
    "    mask = inference_one(net=net,\n",
    "                         image=img,\n",
    "                         device=device)\n",
    "    for idx in range(0,len(mask)):\n",
    "        img = cv2.imread(os.path.join(dir_mask, img_name), cv2.IMREAD_GRAYSCALE)\n",
    "        mask_true = img == idx\n",
    "        mask_predic = mask[idx]\n",
    "        dice, iou = variability(mask_predic, mask_true)\n",
    "        total_dice[idx,img_count] = dice\n",
    "        total_iou[idx,img_count] = iou\n",
    "        print(\"Image {}, Class {} --- Dice Score: {:.5f} | IOU: {:.5f}\".format(img_name, idx, dice, iou))\n",
    "    img_count += 1\n",
    "\n",
    "for idx in range(0,cfg.n_classes):\n",
    "    print(\"\\nAverage Dice Score for Class {}: {:.4f} (STD: {:.4f})\".format(idx, np.nanmean(total_dice[idx]), np.nanstd(total_dice[idx])))\n",
    "    print(\"Average IOU for Class {}: {:.4f} (STD: {:.4f})\".format(idx, np.nanmean(total_iou[idx]), np.nanstd(total_iou[idx])))\n",
    "        "
   ]
  },
  {
   "cell_type": "code",
   "execution_count": 36,
   "id": "0b223185",
   "metadata": {
    "collapsed": true
   },
   "outputs": [
    {
     "name": "stderr",
     "output_type": "stream",
     "text": [
      "116it [04:13,  2.19s/it]\n"
     ]
    },
    {
     "ename": "KeyboardInterrupt",
     "evalue": "",
     "output_type": "error",
     "traceback": [
      "\u001b[1;31m---------------------------------------------------------------------------\u001b[0m",
      "\u001b[1;31mKeyboardInterrupt\u001b[0m                         Traceback (most recent call last)",
      "\u001b[1;32m~\\AppData\\Local\\Temp/ipykernel_14796/2579989385.py\u001b[0m in \u001b[0;36m<module>\u001b[1;34m\u001b[0m\n\u001b[0;32m     25\u001b[0m     mask = inference_one(net=net,\n\u001b[0;32m     26\u001b[0m                          \u001b[0mimage\u001b[0m\u001b[1;33m=\u001b[0m\u001b[0mimg\u001b[0m\u001b[1;33m,\u001b[0m\u001b[1;33m\u001b[0m\u001b[1;33m\u001b[0m\u001b[0m\n\u001b[1;32m---> 27\u001b[1;33m                          device=device)\n\u001b[0m\u001b[0;32m     28\u001b[0m     \u001b[0mimg_name_no_ext\u001b[0m \u001b[1;33m=\u001b[0m \u001b[0mosp\u001b[0m\u001b[1;33m.\u001b[0m\u001b[0msplitext\u001b[0m\u001b[1;33m(\u001b[0m\u001b[0mimg_name\u001b[0m\u001b[1;33m)\u001b[0m\u001b[1;33m[\u001b[0m\u001b[1;36m0\u001b[0m\u001b[1;33m]\u001b[0m\u001b[1;33m\u001b[0m\u001b[1;33m\u001b[0m\u001b[0m\n\u001b[0;32m     29\u001b[0m     \u001b[0moutput_img_dir\u001b[0m \u001b[1;33m=\u001b[0m \u001b[0mosp\u001b[0m\u001b[1;33m.\u001b[0m\u001b[0mjoin\u001b[0m\u001b[1;33m(\u001b[0m\u001b[0moutput_dir\u001b[0m\u001b[1;33m,\u001b[0m \u001b[0mimg_name_no_ext\u001b[0m\u001b[1;33m)\u001b[0m\u001b[1;33m\u001b[0m\u001b[1;33m\u001b[0m\u001b[0m\n",
      "\u001b[1;32m~\\AppData\\Local\\Temp/ipykernel_14796/1680275145.py\u001b[0m in \u001b[0;36minference_one\u001b[1;34m(net, image, device)\u001b[0m\n\u001b[0;32m     10\u001b[0m \u001b[1;33m\u001b[0m\u001b[0m\n\u001b[0;32m     11\u001b[0m     \u001b[1;32mwith\u001b[0m \u001b[0mtorch\u001b[0m\u001b[1;33m.\u001b[0m\u001b[0mno_grad\u001b[0m\u001b[1;33m(\u001b[0m\u001b[1;33m)\u001b[0m\u001b[1;33m:\u001b[0m\u001b[1;33m\u001b[0m\u001b[1;33m\u001b[0m\u001b[0m\n\u001b[1;32m---> 12\u001b[1;33m         \u001b[0moutput\u001b[0m \u001b[1;33m=\u001b[0m \u001b[0mnet\u001b[0m\u001b[1;33m(\u001b[0m\u001b[0mimg\u001b[0m\u001b[1;33m)\u001b[0m\u001b[1;33m\u001b[0m\u001b[1;33m\u001b[0m\u001b[0m\n\u001b[0m\u001b[0;32m     13\u001b[0m         \u001b[1;32mif\u001b[0m \u001b[0mcfg\u001b[0m\u001b[1;33m.\u001b[0m\u001b[0mdeepsupervision\u001b[0m\u001b[1;33m:\u001b[0m\u001b[1;33m\u001b[0m\u001b[1;33m\u001b[0m\u001b[0m\n\u001b[0;32m     14\u001b[0m             \u001b[0moutput\u001b[0m \u001b[1;33m=\u001b[0m \u001b[0moutput\u001b[0m\u001b[1;33m[\u001b[0m\u001b[1;33m-\u001b[0m\u001b[1;36m1\u001b[0m\u001b[1;33m]\u001b[0m\u001b[1;33m\u001b[0m\u001b[1;33m\u001b[0m\u001b[0m\n",
      "\u001b[1;32mc:\\users\\groh\\anaconda3\\envs\\labelme\\lib\\site-packages\\torch\\nn\\modules\\module.py\u001b[0m in \u001b[0;36m_call_impl\u001b[1;34m(self, *input, **kwargs)\u001b[0m\n\u001b[0;32m    887\u001b[0m             \u001b[0mresult\u001b[0m \u001b[1;33m=\u001b[0m \u001b[0mself\u001b[0m\u001b[1;33m.\u001b[0m\u001b[0m_slow_forward\u001b[0m\u001b[1;33m(\u001b[0m\u001b[1;33m*\u001b[0m\u001b[0minput\u001b[0m\u001b[1;33m,\u001b[0m \u001b[1;33m**\u001b[0m\u001b[0mkwargs\u001b[0m\u001b[1;33m)\u001b[0m\u001b[1;33m\u001b[0m\u001b[1;33m\u001b[0m\u001b[0m\n\u001b[0;32m    888\u001b[0m         \u001b[1;32melse\u001b[0m\u001b[1;33m:\u001b[0m\u001b[1;33m\u001b[0m\u001b[1;33m\u001b[0m\u001b[0m\n\u001b[1;32m--> 889\u001b[1;33m             \u001b[0mresult\u001b[0m \u001b[1;33m=\u001b[0m \u001b[0mself\u001b[0m\u001b[1;33m.\u001b[0m\u001b[0mforward\u001b[0m\u001b[1;33m(\u001b[0m\u001b[1;33m*\u001b[0m\u001b[0minput\u001b[0m\u001b[1;33m,\u001b[0m \u001b[1;33m**\u001b[0m\u001b[0mkwargs\u001b[0m\u001b[1;33m)\u001b[0m\u001b[1;33m\u001b[0m\u001b[1;33m\u001b[0m\u001b[0m\n\u001b[0m\u001b[0;32m    890\u001b[0m         for hook in itertools.chain(\n\u001b[0;32m    891\u001b[0m                 \u001b[0m_global_forward_hooks\u001b[0m\u001b[1;33m.\u001b[0m\u001b[0mvalues\u001b[0m\u001b[1;33m(\u001b[0m\u001b[1;33m)\u001b[0m\u001b[1;33m,\u001b[0m\u001b[1;33m\u001b[0m\u001b[1;33m\u001b[0m\u001b[0m\n",
      "\u001b[1;32m~\\Documents\\GitHub\\unet-nested-multiple-classification\\unet\\model.py\u001b[0m in \u001b[0;36mforward\u001b[1;34m(self, input)\u001b[0m\n\u001b[0;32m     95\u001b[0m         \u001b[0mx2_0\u001b[0m \u001b[1;33m=\u001b[0m \u001b[0mself\u001b[0m\u001b[1;33m.\u001b[0m\u001b[0mconv2_0\u001b[0m\u001b[1;33m(\u001b[0m\u001b[0mself\u001b[0m\u001b[1;33m.\u001b[0m\u001b[0mpool\u001b[0m\u001b[1;33m(\u001b[0m\u001b[0mx1_0\u001b[0m\u001b[1;33m)\u001b[0m\u001b[1;33m)\u001b[0m\u001b[1;33m\u001b[0m\u001b[1;33m\u001b[0m\u001b[0m\n\u001b[0;32m     96\u001b[0m         \u001b[0mx1_1\u001b[0m \u001b[1;33m=\u001b[0m \u001b[0mself\u001b[0m\u001b[1;33m.\u001b[0m\u001b[0mconv1_1\u001b[0m\u001b[1;33m(\u001b[0m\u001b[0mtorch\u001b[0m\u001b[1;33m.\u001b[0m\u001b[0mcat\u001b[0m\u001b[1;33m(\u001b[0m\u001b[1;33m[\u001b[0m\u001b[0mx1_0\u001b[0m\u001b[1;33m,\u001b[0m \u001b[0mself\u001b[0m\u001b[1;33m.\u001b[0m\u001b[0mup\u001b[0m\u001b[1;33m(\u001b[0m\u001b[0mx2_0\u001b[0m\u001b[1;33m)\u001b[0m\u001b[1;33m]\u001b[0m\u001b[1;33m,\u001b[0m \u001b[1;36m1\u001b[0m\u001b[1;33m)\u001b[0m\u001b[1;33m)\u001b[0m\u001b[1;33m\u001b[0m\u001b[1;33m\u001b[0m\u001b[0m\n\u001b[1;32m---> 97\u001b[1;33m         \u001b[0mx0_2\u001b[0m \u001b[1;33m=\u001b[0m \u001b[0mself\u001b[0m\u001b[1;33m.\u001b[0m\u001b[0mconv0_2\u001b[0m\u001b[1;33m(\u001b[0m\u001b[0mtorch\u001b[0m\u001b[1;33m.\u001b[0m\u001b[0mcat\u001b[0m\u001b[1;33m(\u001b[0m\u001b[1;33m[\u001b[0m\u001b[0mx0_0\u001b[0m\u001b[1;33m,\u001b[0m \u001b[0mx0_1\u001b[0m\u001b[1;33m,\u001b[0m \u001b[0mself\u001b[0m\u001b[1;33m.\u001b[0m\u001b[0mup\u001b[0m\u001b[1;33m(\u001b[0m\u001b[0mx1_1\u001b[0m\u001b[1;33m)\u001b[0m\u001b[1;33m]\u001b[0m\u001b[1;33m,\u001b[0m \u001b[1;36m1\u001b[0m\u001b[1;33m)\u001b[0m\u001b[1;33m)\u001b[0m\u001b[1;33m\u001b[0m\u001b[1;33m\u001b[0m\u001b[0m\n\u001b[0m\u001b[0;32m     98\u001b[0m \u001b[1;33m\u001b[0m\u001b[0m\n\u001b[0;32m     99\u001b[0m         \u001b[0mx3_0\u001b[0m \u001b[1;33m=\u001b[0m \u001b[0mself\u001b[0m\u001b[1;33m.\u001b[0m\u001b[0mconv3_0\u001b[0m\u001b[1;33m(\u001b[0m\u001b[0mself\u001b[0m\u001b[1;33m.\u001b[0m\u001b[0mpool\u001b[0m\u001b[1;33m(\u001b[0m\u001b[0mx2_0\u001b[0m\u001b[1;33m)\u001b[0m\u001b[1;33m)\u001b[0m\u001b[1;33m\u001b[0m\u001b[1;33m\u001b[0m\u001b[0m\n",
      "\u001b[1;31mKeyboardInterrupt\u001b[0m: "
     ]
    }
   ],
   "source": [
    "sessions_to_test = [\"09\"]\n",
    "\n",
    "output_dir = r\"C:\\Users\\Groh\\Desktop\\Test_Results\"\n",
    "checkpoint = r\"C:\\Users\\Groh\\Documents\\GitHub\\unet-nested-multiple-classification\\data\\checkpoints\\epoch_2.pth\"\n",
    "\n",
    "input_imgs = [i for i in os.listdir(all_images) if os.path.isfile(os.path.join(all_images,i)) and \\\n",
    "     i.startswith(tuple([\"aicm\"+ses for ses in sessions_to_test]))]\n",
    "\n",
    "net = eval(cfg.model)(cfg)\n",
    "logging.info(\"Loading model {}\".format(checkpoint))\n",
    "\n",
    "device = torch.device('cuda' if torch.cuda.is_available() else 'cpu')\n",
    "logging.info(f'Using device {device}')\n",
    "net.to(device=device)\n",
    "net.load_state_dict(torch.load(checkpoint, map_location=device))\n",
    "\n",
    "logging.info(\"Model loaded !\")\n",
    "\n",
    "for i, img_name in tqdm(enumerate(input_imgs)):\n",
    "    logging.info(\"\\nPredicting image {} ...\".format(img_name))\n",
    "\n",
    "    img_path = osp.join(all_images, img_name)\n",
    "    img = Image.open(img_path)\n",
    "\n",
    "    mask = inference_one(net=net,\n",
    "                         image=img,\n",
    "                         device=device)\n",
    "    img_name_no_ext = osp.splitext(img_name)[0]\n",
    "    output_img_dir = osp.join(output_dir, img_name_no_ext)\n",
    "    os.makedirs(output_img_dir, exist_ok=True)\n",
    "\n",
    "    if cfg.n_classes == 1:\n",
    "        image_idx = Image.fromarray((mask * 255).astype(np.uint8))\n",
    "        image_idx.save(osp.join(output_img_dir, img_name))\n",
    "    else:\n",
    "        for idx in range(0, len(mask)):\n",
    "            img_name_idx = img_name_no_ext + \"_\" + str(idx) + \".png\"\n",
    "            image_idx = Image.fromarray((mask[idx] * 255).astype(np.uint8))\n",
    "            image_idx.save(osp.join(output_img_dir, img_name_idx))\n"
   ]
  }
 ],
 "metadata": {
  "kernelspec": {
   "display_name": "Python 3 (ipykernel)",
   "language": "python",
   "name": "python3"
  },
  "language_info": {
   "codemirror_mode": {
    "name": "ipython",
    "version": 3
   },
   "file_extension": ".py",
   "mimetype": "text/x-python",
   "name": "python",
   "nbconvert_exporter": "python",
   "pygments_lexer": "ipython3",
   "version": "3.7.10"
  },
  "varInspector": {
   "cols": {
    "lenName": 16,
    "lenType": 16,
    "lenVar": 40
   },
   "kernels_config": {
    "python": {
     "delete_cmd_postfix": "",
     "delete_cmd_prefix": "del ",
     "library": "var_list.py",
     "varRefreshCmd": "print(var_dic_list())"
    },
    "r": {
     "delete_cmd_postfix": ") ",
     "delete_cmd_prefix": "rm(",
     "library": "var_list.r",
     "varRefreshCmd": "cat(var_dic_list()) "
    }
   },
   "types_to_exclude": [
    "module",
    "function",
    "builtin_function_or_method",
    "instance",
    "_Feature"
   ],
   "window_display": false
  }
 },
 "nbformat": 4,
 "nbformat_minor": 5
}
