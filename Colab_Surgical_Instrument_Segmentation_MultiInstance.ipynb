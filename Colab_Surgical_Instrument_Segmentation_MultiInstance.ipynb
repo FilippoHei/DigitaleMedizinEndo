{
  "nbformat": 4,
  "nbformat_minor": 5,
  "metadata": {
    "colab": {
      "name": "Surgical_Instrument_Segmentation_MultiInstance.ipynb",
      "provenance": [],
      "collapsed_sections": []
    },
    "kernelspec": {
      "display_name": "Python 3",
      "language": "python",
      "name": "python3"
    },
    "language_info": {
      "codemirror_mode": {
        "name": "ipython",
        "version": 3
      },
      "file_extension": ".py",
      "mimetype": "text/x-python",
      "name": "python",
      "nbconvert_exporter": "python",
      "pygments_lexer": "ipython3",
      "version": "3.7.10"
    },
    "accelerator": "GPU"
  },
  "cells": [
    {
      "cell_type": "code",
      "metadata": {
        "id": "51ac3264"
      },
      "source": [
        "%matplotlib inline"
      ],
      "id": "51ac3264",
      "execution_count": 1,
      "outputs": []
    },
    {
      "cell_type": "code",
      "metadata": {
        "colab": {
          "base_uri": "https://localhost:8080/"
        },
        "id": "SPedgWOWskBM",
        "outputId": "255f69bb-0453-4cff-8256-cb6ca879a8fc"
      },
      "source": [
        "from google.colab import drive\n",
        "drive.mount('/content/drive')"
      ],
      "id": "SPedgWOWskBM",
      "execution_count": 2,
      "outputs": [
        {
          "output_type": "stream",
          "text": [
            "Mounted at /content/drive\n"
          ],
          "name": "stdout"
        }
      ]
    },
    {
      "cell_type": "markdown",
      "metadata": {
        "id": "44d6650d"
      },
      "source": [
        "#### Requirements\n",
        "\n",
        "\n",
        "\n",
        "1.   Connect colab to your google drive\n",
        "2.   Navigate into the folder where the unet is stored\n",
        "\n"
      ],
      "id": "44d6650d"
    },
    {
      "cell_type": "code",
      "metadata": {
        "colab": {
          "base_uri": "https://localhost:8080/"
        },
        "id": "GHc0q7u-9IZ_",
        "outputId": "002c2d8f-67f9-4613-94cb-fff9a9d8262c"
      },
      "source": [
        "from google.colab import drive\n",
        "drive.mount('/gdrive')"
      ],
      "id": "GHc0q7u-9IZ_",
      "execution_count": 3,
      "outputs": [
        {
          "output_type": "stream",
          "text": [
            "Mounted at /gdrive\n"
          ],
          "name": "stdout"
        }
      ]
    },
    {
      "cell_type": "code",
      "metadata": {
        "id": "yYAVxM5C9ja5"
      },
      "source": [
        "import sys\n",
        "sys.path.insert(0, '/gdrive/MyDrive/unet-nested-multiple-classification')"
      ],
      "id": "yYAVxM5C9ja5",
      "execution_count": 4,
      "outputs": []
    },
    {
      "cell_type": "code",
      "metadata": {
        "colab": {
          "base_uri": "https://localhost:8080/"
        },
        "id": "3b22edfc",
        "outputId": "9caef33f-2e2a-48fb-bd1e-1bcec4860e49"
      },
      "source": [
        "import matplotlib.pyplot as plt\n",
        "import matplotlib.image as mpimg\n",
        "\n",
        "import argparse\n",
        "import logging\n",
        "import os\n",
        "import os.path as osp\n",
        "from PIL import Image\n",
        "\n",
        "# Change this path to wherever you installed the Pytorch-UNet module\n",
        "#sys.path.append('C:/Users/Groh/Documents/GitHub/unet-nested-multiple-classification')\n",
        "#os.environ['KMP_DUPLICATE_LIB_OK']='True'\n",
        "\n",
        "import numpy as np\n",
        "import torch\n",
        "import torch.nn as nn\n",
        "import torch.nn.functional as F\n",
        "from torch import optim\n",
        "from torch.utils.data import DataLoader, Dataset, random_split\n",
        "from torch.utils.tensorboard import SummaryWriter\n",
        "from tqdm import tqdm\n",
        "\n",
        "from unet import NestedUNet\n",
        "from unet import UNet\n",
        "from utils.dataset import BasicDataset\n",
        "from config import UNetConfig\n",
        "\n",
        "from losses import LovaszLossSoftmax\n",
        "from losses import LovaszLossHinge\n",
        "from losses import dice_coeff\n",
        "\n",
        "import cv2\n",
        "! pip install albumentations==0.4.6\n",
        "import albumentations as A\n",
        "import albumentations.augmentations.functional as Fu\n",
        "from albumentations.pytorch.transforms import ToTensorV2\n",
        "import copy\n",
        "\n",
        "from os.path import splitext\n",
        "from os import listdir\n",
        "\n",
        "from glob import glob\n",
        "\n",
        "from torchvision.transforms import functional as func\n",
        "from numpy import moveaxis\n",
        "import matplotlib.pyplot as plt\n",
        "\n",
        "\n",
        "\n"
      ],
      "id": "3b22edfc",
      "execution_count": 5,
      "outputs": [
        {
          "output_type": "stream",
          "text": [
            "Collecting albumentations==0.4.6\n",
            "\u001b[?25l  Downloading https://files.pythonhosted.org/packages/92/33/1c459c2c9a4028ec75527eff88bc4e2d256555189f42af4baf4d7bd89233/albumentations-0.4.6.tar.gz (117kB)\n",
            "\u001b[K     |████████████████████████████████| 122kB 3.8MB/s \n",
            "\u001b[?25hRequirement already satisfied: numpy>=1.11.1 in /usr/local/lib/python3.7/dist-packages (from albumentations==0.4.6) (1.19.5)\n",
            "Requirement already satisfied: scipy in /usr/local/lib/python3.7/dist-packages (from albumentations==0.4.6) (1.4.1)\n",
            "Collecting imgaug>=0.4.0\n",
            "\u001b[?25l  Downloading https://files.pythonhosted.org/packages/66/b1/af3142c4a85cba6da9f4ebb5ff4e21e2616309552caca5e8acefe9840622/imgaug-0.4.0-py2.py3-none-any.whl (948kB)\n",
            "\u001b[K     |████████████████████████████████| 952kB 4.8MB/s \n",
            "\u001b[?25hRequirement already satisfied: PyYAML in /usr/local/lib/python3.7/dist-packages (from albumentations==0.4.6) (3.13)\n",
            "Requirement already satisfied: opencv-python>=4.1.1 in /usr/local/lib/python3.7/dist-packages (from albumentations==0.4.6) (4.1.2.30)\n",
            "Requirement already satisfied: matplotlib in /usr/local/lib/python3.7/dist-packages (from imgaug>=0.4.0->albumentations==0.4.6) (3.2.2)\n",
            "Requirement already satisfied: Shapely in /usr/local/lib/python3.7/dist-packages (from imgaug>=0.4.0->albumentations==0.4.6) (1.7.1)\n",
            "Requirement already satisfied: Pillow in /usr/local/lib/python3.7/dist-packages (from imgaug>=0.4.0->albumentations==0.4.6) (7.1.2)\n",
            "Requirement already satisfied: imageio in /usr/local/lib/python3.7/dist-packages (from imgaug>=0.4.0->albumentations==0.4.6) (2.4.1)\n",
            "Requirement already satisfied: scikit-image>=0.14.2 in /usr/local/lib/python3.7/dist-packages (from imgaug>=0.4.0->albumentations==0.4.6) (0.16.2)\n",
            "Requirement already satisfied: six in /usr/local/lib/python3.7/dist-packages (from imgaug>=0.4.0->albumentations==0.4.6) (1.15.0)\n",
            "Requirement already satisfied: kiwisolver>=1.0.1 in /usr/local/lib/python3.7/dist-packages (from matplotlib->imgaug>=0.4.0->albumentations==0.4.6) (1.3.1)\n",
            "Requirement already satisfied: python-dateutil>=2.1 in /usr/local/lib/python3.7/dist-packages (from matplotlib->imgaug>=0.4.0->albumentations==0.4.6) (2.8.1)\n",
            "Requirement already satisfied: cycler>=0.10 in /usr/local/lib/python3.7/dist-packages (from matplotlib->imgaug>=0.4.0->albumentations==0.4.6) (0.10.0)\n",
            "Requirement already satisfied: pyparsing!=2.0.4,!=2.1.2,!=2.1.6,>=2.0.1 in /usr/local/lib/python3.7/dist-packages (from matplotlib->imgaug>=0.4.0->albumentations==0.4.6) (2.4.7)\n",
            "Requirement already satisfied: networkx>=2.0 in /usr/local/lib/python3.7/dist-packages (from scikit-image>=0.14.2->imgaug>=0.4.0->albumentations==0.4.6) (2.5.1)\n",
            "Requirement already satisfied: PyWavelets>=0.4.0 in /usr/local/lib/python3.7/dist-packages (from scikit-image>=0.14.2->imgaug>=0.4.0->albumentations==0.4.6) (1.1.1)\n",
            "Requirement already satisfied: decorator<5,>=4.3 in /usr/local/lib/python3.7/dist-packages (from networkx>=2.0->scikit-image>=0.14.2->imgaug>=0.4.0->albumentations==0.4.6) (4.4.2)\n",
            "Building wheels for collected packages: albumentations\n",
            "  Building wheel for albumentations (setup.py) ... \u001b[?25l\u001b[?25hdone\n",
            "  Created wheel for albumentations: filename=albumentations-0.4.6-cp37-none-any.whl size=65175 sha256=7b06b2ba8cb56aaabc8d7deb887adb41a565f1364e8e7576f4a80c096e5d0db1\n",
            "  Stored in directory: /root/.cache/pip/wheels/c7/f4/89/56d1bee5c421c36c1a951eeb4adcc32fbb82f5344c086efa14\n",
            "Successfully built albumentations\n",
            "Installing collected packages: imgaug, albumentations\n",
            "  Found existing installation: imgaug 0.2.9\n",
            "    Uninstalling imgaug-0.2.9:\n",
            "      Successfully uninstalled imgaug-0.2.9\n",
            "  Found existing installation: albumentations 0.1.12\n",
            "    Uninstalling albumentations-0.1.12:\n",
            "      Successfully uninstalled albumentations-0.1.12\n",
            "Successfully installed albumentations-0.4.6 imgaug-0.4.0\n"
          ],
          "name": "stdout"
        }
      ]
    },
    {
      "cell_type": "markdown",
      "metadata": {
        "id": "45d353a8"
      },
      "source": [
        "#### Assing absolute paths of image and mask folders"
      ],
      "id": "45d353a8"
    },
    {
      "cell_type": "code",
      "metadata": {
        "id": "e553b737"
      },
      "source": [
        "# Change this path to the respective image and mask folders\n",
        "\n",
        "#dir_img_train = '../gdrive/MyDrive/imgs_masks_256x144/images_training/'\n",
        "#dir_mask_train = '../gdrive/MyDrive/imgs_masks_256x144/masks_grayscale/'\n",
        "\n",
        "#dir_img_val = '../gdrive/MyDrive/imgs_masks_256x144/images_all/'\n",
        "#dir_mask_val = '../gdrive/MyDrive/imgs_masks_256x144/masks_grayscale/'\n",
        "\n",
        "\n",
        "dir_img = '../gdrive/MyDrive/unet-nested-multiple-classification/data/images/'\n",
        "dir_mask = '../gdrive/MyDrive/unet-nested-multiple-classification/data/masks/'\n",
        "\n",
        "dir_checkpoint = '../gdrive/MyDrive/unet-nested-multiple-classification/data/checkpoints/'\n",
        "\n",
        "#print(dir_img)\n",
        "#print(dir_mask)\n",
        "#print(dir_checkpoint)\n",
        "\n",
        "\n",
        "\n",
        "#dir_img = 'C:/Users/Groh/Documents/GitHub/unet-nested-multiple-classification/data/images/'\n",
        "#print(dir_img)\n",
        "#dir_mask = 'C:/Users/Groh/Documents/GitHub/unet-nested-multiple-classification/data/masks/'\n",
        "#dir_checkpoint = 'C:/Users/Groh/Documents/GitHub/unet-nested-multiple-classification/data/checkpoints/'"
      ],
      "id": "e553b737",
      "execution_count": 6,
      "outputs": []
    },
    {
      "cell_type": "markdown",
      "metadata": {
        "id": "f52a828d"
      },
      "source": [
        "#### Prepare masks for multi instance segmentation"
      ],
      "id": "f52a828d"
    },
    {
      "cell_type": "code",
      "metadata": {
        "id": "e24db289"
      },
      "source": [
        "convert_files = False"
      ],
      "id": "e24db289",
      "execution_count": 7,
      "outputs": []
    },
    {
      "cell_type": "code",
      "metadata": {
        "id": "7ca8a4e9"
      },
      "source": [
        "num_files = len([f for f in os.listdir(dir_img)if os.path.isfile(os.path.join(dir_img, f))])\n",
        "\n",
        "if convert_files:\n",
        "    for i in range(num_files):\n",
        "        name = os.listdir(dir_img)[i]\n",
        "        file = dir_mask+name\n",
        "\n",
        "        # If a mask is missing, create a new, empty mask\n",
        "        if not os.path.isfile(file):\n",
        "            img = Image.open(dir_img+name)\n",
        "            width, height = img.size\n",
        "\n",
        "            img_new = Image.new('L', (width, height))\n",
        "            img_new.save(file, \"PNG\")\n",
        "\n",
        "        # Convert all images to 8-bit gray scales\n",
        "        img_grayscale = Image.open(file).convert('L')\n",
        "        img_grayscale.save(file)\n",
        "\n",
        "\n",
        "        # Check, whether more than background is visible in the mask\n",
        "        image_gray = cv2.imread(file, cv2.IMREAD_GRAYSCALE)\n",
        "        unique = np.unique(image_gray.flatten())\n",
        "        if len(unique) > 1:\n",
        "            # For every pixel change gray-scale value according to categorical value\n",
        "            img = Image.open(file)\n",
        "            # Create pixel map\n",
        "            pixels = img.load()\n",
        "            for ii in range(img.size[0]): \n",
        "                for j in range(img.size[1]):\n",
        "                    if pixels[ii,j] == 52: # Atraum. Pinzette\n",
        "                        pixels[ii,j] = 1\n",
        "                    elif pixels[ii,j] == 113: # Nadelhalter\n",
        "                        pixels[ii,j] = 2\n",
        "    #                     elif pixels[i,j] = 52:\n",
        "    #                         pixels[i,j] = 1\n",
        "    #                     elif pixels[i,j] = 52:\n",
        "    #                         pixels[i,j] = 1\n",
        "    #                     elif pixels[i,j] = 52:\n",
        "    #                         pixels[i,j] = 1\n",
        "    #                     elif pixels[i,j] = 52:\n",
        "    #                         pixels[i,j] = 1\n",
        "    #                     elif pixels[i,j] = 52:\n",
        "    #                         pixels[i,j] = 1\n",
        "            img.save(file)"
      ],
      "id": "7ca8a4e9",
      "execution_count": 8,
      "outputs": []
    },
    {
      "cell_type": "markdown",
      "metadata": {
        "id": "m4mpz0YHdwaQ"
      },
      "source": [
        "## Data Augmentation"
      ],
      "id": "m4mpz0YHdwaQ"
    },
    {
      "cell_type": "markdown",
      "metadata": {
        "id": "etOts5awoHJY"
      },
      "source": [
        "Returns a list of the filenames of those session you want <br>\n",
        "Parameter: <br>\n",
        "\n",
        "\n",
        "-directory: directory where images/masks are stored <br>\n",
        "-sessions: session numbers you want to include in dataset <br>\n",
        "  -> hand in as list <br>\n",
        "  -> example: if you want to include session 06 and 07 to dataset, write following: getSelectedFilenames(directory, ['06', '07']) <br>\n",
        "\n",
        "\n",
        "\n",
        "\n",
        "\n"
      ],
      "id": "etOts5awoHJY"
    },
    {
      "cell_type": "code",
      "metadata": {
        "id": "2YiYMAIEkBNX"
      },
      "source": [
        "def getSelectedFilenames(directory, sessions):\n",
        "  all_filenames = list(sorted(os.listdir(directory)));\n",
        "  #print(all_filenames)\n",
        "  selected_filenames = []\n",
        "  \n",
        "  for session in sessions:\n",
        "    string = 'aicm' + session;\n",
        "    for name in all_filenames:\n",
        "      if string in name:\n",
        "       selected_filenames.append(name);\n",
        "\n",
        "  #print(selected_filenames)   \n",
        "  return selected_filenames;\n",
        "\n",
        "#getSelectedFilenames(dir_img, ['05_02', '06']);"
      ],
      "id": "2YiYMAIEkBNX",
      "execution_count": 9,
      "outputs": []
    },
    {
      "cell_type": "markdown",
      "metadata": {
        "id": "AVfiyDhzwhES"
      },
      "source": [
        "Returns a list of the filenames of those session you want <br>\n",
        "Parameter: <br>\n",
        "\n",
        "\n",
        "-images_directory: directory where images are stored <br>\n",
        "-masks_directory: directory where masks are stored <br>\n",
        "-sessions: session numbers you want to include in dataset <br>\n",
        "  -> hand in as list <br>\n",
        "  -> example: if you want to include session 06 and 07 to dataset, write following: getSelectedFilenames(directory, ['06', '07']) <br>\n",
        "-transform: albumentations compose object - optional, just add for training data, you don't need augmented pictures for validation\n",
        "\n",
        "\n",
        "\n",
        "\n"
      ],
      "id": "AVfiyDhzwhES"
    },
    {
      "cell_type": "code",
      "metadata": {
        "id": "I0D7MgNwdv98",
        "colab": {
          "base_uri": "https://localhost:8080/"
        },
        "outputId": "5ce4bc89-23ad-443e-9fe2-d108583b018f"
      },
      "source": [
        "#erstellt Dataset mit Trainingsbildern und -masken\n",
        "class CustomDataset(Dataset):\n",
        "    def __init__(self, images_directory, masks_directory, sessions, transform=None):   \n",
        "        self.images_filenames = getSelectedFilenames(images_directory, sessions);\n",
        "        self.images_directory = images_directory;\n",
        "        self.masks_directory = masks_directory;\n",
        "        self.transform = transform;\n",
        "        self.sessions = sessions  \n",
        "\n",
        "        #print(self.images_filenames[0])             \n",
        "\n",
        "    def __len__(self):\n",
        "        return len(self.images_filenames)\n",
        "\n",
        "    def __getitem__(self, idx):\n",
        "        #print(self.images_filenames)\n",
        "        image_filename = self.images_filenames[idx]\n",
        "\n",
        "        pathImage = os.path.join(self.images_directory, image_filename);\n",
        "        pathMask = os.path.join(self.masks_directory, image_filename);\n",
        "        \n",
        "        pillow_image = Image.open(pathImage)\n",
        "        image = np.array(pillow_image)\n",
        "        pillow_mask = Image.open(pathMask)\n",
        "        mask = np.array(pillow_mask)\n",
        "        \n",
        "        if self.transform is not None:\n",
        "          transformed = self.transform(image=image, mask=mask)\n",
        "          image = transformed[\"image\"]\n",
        "          mask = transformed[\"mask\"]\n",
        "          image = np.array(image)\n",
        "          mask = np.array(mask)\n",
        "         \n",
        "          #to get channels_first format\n",
        "          #image_np = moveaxis(image_np, 2,0)\n",
        "                    \n",
        "         \n",
        "          #image_tensor = torch.from_numpy(image_np).type(torch.FloatTensor)\n",
        "          #mask_tensor = torch.from_numpy(mask_np).type(torch.FloatTensor)\n",
        "\n",
        "        image = func.to_tensor(np.array(image))\n",
        "        mask = func.to_tensor(np.array(mask)) \n",
        "\n",
        "\n",
        "        return {\n",
        "            'image': image,\n",
        "            'mask':  mask\n",
        "        } \n",
        "\n",
        "    def preprocess(cls, pil_img, scale):\n",
        "        w, h = pil_img.size\n",
        "        newW, newH = int(scale * w), int(scale * h)\n",
        "        assert newW > 0 and newH > 0, 'Scale is too small'\n",
        "        pil_img = pil_img.resize((newW, newH))\n",
        "\n",
        "        img_nd = np.array(pil_img)\n",
        "\n",
        "        if len(img_nd.shape) == 2:\n",
        "            img_nd = np.expand_dims(img_nd, axis=2)\n",
        "\n",
        "        # HWC to CHW\n",
        "        img_trans = img_nd.transpose((2, 0, 1))\n",
        "        if img_trans.max() > 1:\n",
        "            img_trans = img_trans / 255\n",
        "\n",
        "        return img_trans         \n",
        "        \n",
        "#tatsächliche Augmentation\n",
        "#möglicherweise noch andere Transformationen einfügen\n",
        "\n",
        "train_transform = A.Compose([\n",
        "    A.HorizontalFlip(p=1),\n",
        "    A.Rotate (limit=[-10, 10]),\n",
        "    A.Blur (blur_limit=4, always_apply=False, p=0.5),\n",
        "    A.ShiftScaleRotate(shift_limit=0.2, scale_limit=0.2, rotate_limit=30, p=0.5),\n",
        "    #A.RGBShift(r_shift_limit=25, g_shift_limit=25, b_shift_limit=25, p=0.5),\n",
        "    #A.RandomBrightnessContrast(brightness_limit=0.3, contrast_limit=0.3, p=0.5),\n",
        "])\n",
        "\n",
        "\n",
        "sessions = ['05_02', '05_03']\n",
        "train_data = CustomDataset(dir_img, dir_mask, sessions, train_transform)  \n",
        "\n",
        "val_data = CustomDataset(dir_img, dir_mask, sessions)\n",
        "train_data.__len__()                           \n",
        "train_data.__getitem__(5);\n",
        "\n",
        "print(train_data.__getitem__(5)['mask'].shape)\n",
        "print(train_data.__getitem__(5)['image'].shape)\n",
        "\n",
        "print(val_data.__getitem__(5)['mask'].shape)\n",
        "print(val_data.__getitem__(5)['image'].shape)\n",
        "\n"
      ],
      "id": "I0D7MgNwdv98",
      "execution_count": 10,
      "outputs": [
        {
          "output_type": "stream",
          "text": [
            "torch.Size([1, 432, 768])\n",
            "torch.Size([3, 432, 768])\n",
            "torch.Size([1, 432, 768])\n",
            "torch.Size([3, 432, 768])\n"
          ],
          "name": "stdout"
        }
      ]
    },
    {
      "cell_type": "markdown",
      "metadata": {
        "id": "1mND0_Vgd5ed"
      },
      "source": [
        "Set up training and validation datasets <br>\n"
      ],
      "id": "1mND0_Vgd5ed"
    },
    {
      "cell_type": "markdown",
      "metadata": {
        "id": "bO1VldqgwqmI"
      },
      "source": [
        "Parameter: <br>\n",
        "\n",
        "-dir_img_train: directory where images for training are stored <br>\n",
        "-dir_mask_train: directory where masks for training are stored <br>\n",
        "-dir_img_val: directory where images for validation are stored <br>\n",
        "-dir_mask_val: directory where masks for validation are stored <br>\n",
        "-train_transform: albumentations compose object for training images/masks, which you want to augment\n",
        "-sessions_train: session numbers of training_data you want to include in dataset <br>\n",
        "  -> hand in as list <br>\n",
        "  -> example: if you want to include session 06 and 07 to dataset, write following: getSelectedFilenames(directory, ['06', '07'])  <br>\n",
        "  -sessions_val: session numbers of training_data you want to include in dataset <br>\n",
        "  -> hand in as list <br>\n",
        "  -> example: if you want to include session 06 and 07 to dataset, write following: getSelectedFilenames(directory, ['06', '07']) \n",
        "\n",
        "\n",
        "\n",
        "\n"
      ],
      "id": "bO1VldqgwqmI"
    },
    {
      "cell_type": "code",
      "metadata": {
        "colab": {
          "base_uri": "https://localhost:8080/"
        },
        "id": "MzUZQtBtd_R_",
        "outputId": "1e5b93eb-b557-4787-f0e2-05e37b0f534f"
      },
      "source": [
        "def setupDatasets(dir_img_train, dir_mask_train, dir_img_val, dir_mask_val ,train_transform, sessions_train, sessions_val):\n",
        "  train_dataset = CustomDataset(dir_img_train, dir_mask_train, sessions_train, train_transform)\n",
        "  val_dataset = CustomDataset(dir_img_val, dir_mask_val, sessions_val)\n",
        "  return train_dataset, val_dataset\n",
        "\n",
        "trainingData, validationData = setupDatasets(dir_img, dir_mask, dir_img, dir_mask, train_transform, ['05_02', '05_03', '06_02' ], ['06_03']) \n",
        "\n",
        "print((trainingData.__getitem__(5)['image'].shape))\n",
        "print((trainingData.__getitem__(5)['mask'].shape))\n",
        "print((validationData.__getitem__(5)['image'].shape))\n",
        "print((validationData.__getitem__(5)['mask'].shape))"
      ],
      "id": "MzUZQtBtd_R_",
      "execution_count": 11,
      "outputs": [
        {
          "output_type": "stream",
          "text": [
            "torch.Size([3, 432, 768])\n",
            "torch.Size([1, 432, 768])\n",
            "torch.Size([3, 432, 768])\n",
            "torch.Size([1, 432, 768])\n"
          ],
          "name": "stdout"
        }
      ]
    },
    {
      "cell_type": "markdown",
      "metadata": {
        "id": "N4aYfiv5qpk0"
      },
      "source": [
        "Visualization of different augmentations applied to the same image and the associated mask"
      ],
      "id": "N4aYfiv5qpk0"
    },
    {
      "cell_type": "code",
      "metadata": {
        "colab": {
          "base_uri": "https://localhost:8080/",
          "height": 137
        },
        "id": "YHI767T0A4tJ",
        "outputId": "357cfbae-9e38-4968-bfbb-7d916c07006f"
      },
      "source": [
        "def visualize(dataset):\n",
        "  index = np.random.choice(dataset.__len__(), 1)\n",
        "  dictionary = dataset.__getitem__(index[0]);\n",
        "  dictionary2 = dataset.__getitem__(index[0]);\n",
        "  #print(type(dictionary))\n",
        "\n",
        "  image, mask = dictionary[\"image\"], dictionary[\"mask\"]\n",
        "  image = image.numpy().transpose((1,2,0))\n",
        "  mask = mask.numpy().transpose((1,2,0))\n",
        " \n",
        "  image2, mask2 = dictionary2[\"image\"], dictionary2[\"mask\"]\n",
        "  image2 = image2.numpy().transpose((1,2,0))\n",
        "  mask2 = mask2.numpy().transpose((1,2,0))\n",
        " \n",
        "  plt.subplot(1, 2, 1) \n",
        "  plt.imshow(image)\n",
        "\n",
        "  plt.subplot(1, 2, 2) \n",
        "  plt.imshow(np.squeeze(mask))  # zero'th channel is the background, 1st channel is the foreground or gauss points\n",
        "\n",
        "  plt.subplot(2, 2, 1) \n",
        "  plt.imshow(image2)\n",
        "\n",
        "  plt.subplot(2, 2, 2) \n",
        "  plt.imshow(np.squeeze(mask2))\n",
        "\n",
        "visualize(train_data)"
      ],
      "id": "YHI767T0A4tJ",
      "execution_count": 12,
      "outputs": [
        {
          "output_type": "display_data",
          "data": {
            "image/png": "[encoded data removed]",
            "text/plain": [
              "<Figure size 432x288 with 2 Axes>"
            ]
          },
          "metadata": {
            "tags": [],
            "needs_background": "light"
          }
        }
      ]
    },
    {
      "cell_type": "markdown",
      "metadata": {
        "id": "96a61298"
      },
      "source": [
        "#### Train network"
      ],
      "id": "96a61298"
    },
    {
      "cell_type": "code",
      "metadata": {
        "id": "5523fc5c",
        "scrolled": true
      },
      "source": [
        "# Change UNet configuration if necessary\n",
        "# Also important to change n_channels and n_classes\n",
        "cfg = UNetConfig()\n",
        "\n",
        "# Training function\n",
        "def train_net(net, cfg, train_dataset, val_dataset):\n",
        "    #val_percent = cfg.validation / 100\n",
        "    #n_val = int(len(train_dataset) * val_percent)\n",
        "    #n_train = len(train_dataset) - n_val\n",
        "       \n",
        "    train = train_dataset\n",
        "\n",
        "    #steps per epoch? --> n_train\n",
        "    n_train = 50\n",
        "    n_val = 10\n",
        "\n",
        "    val = val_dataset\n",
        "   \n",
        "    train_loader = DataLoader(train,\n",
        "                              batch_size=cfg.batch_size,\n",
        "                              shuffle=True,\n",
        "                              num_workers=8,\n",
        "                              pin_memory=True)\n",
        "    val_loader = DataLoader(val,\n",
        "                            batch_size=cfg.batch_size,\n",
        "                            shuffle=False,\n",
        "                            num_workers=8,\n",
        "                            pin_memory=True)\n",
        "\n",
        "    writer = SummaryWriter(comment=f'LR_{cfg.lr}_BS_{cfg.batch_size}_SCALE_{cfg.scale}')\n",
        "    global_step = 0\n",
        "\n",
        "    logging.info(f'''Starting training:\n",
        "        Epochs:          {cfg.epochs}\n",
        "        Batch size:      {cfg.batch_size}\n",
        "        Learning rate:   {cfg.lr}\n",
        "        Optimizer:       {cfg.optimizer}\n",
        "        Training size:   {n_train}\n",
        "        Validation size: {n_val}\n",
        "        Checkpoints:     {cfg.save_cp}\n",
        "        Device:          {device.type}\n",
        "        Images scaling:  {cfg.scale}\n",
        "    ''')\n",
        "\n",
        "    if cfg.optimizer == 'Adam':\n",
        "        optimizer = optim.Adam(net.parameters(),\n",
        "                               lr=cfg.lr)\n",
        "    elif cfg.optimizer == 'RMSprop':\n",
        "        optimizer = optim.RMSprop(net.parameters(),\n",
        "                                  lr=cfg.lr,\n",
        "                                  weight_decay=cfg.weight_decay)\n",
        "    else:\n",
        "        optimizer = optim.SGD(net.parameters(),\n",
        "                              lr=cfg.lr,\n",
        "                              momentum=cfg.momentum,\n",
        "                              weight_decay=cfg.weight_decay,\n",
        "                              nesterov=cfg.nesterov)\n",
        "\n",
        "    scheduler = optim.lr_scheduler.MultiStepLR(optimizer,\n",
        "                                               milestones=cfg.lr_decay_milestones,\n",
        "                                               gamma = cfg.lr_decay_gamma)\n",
        "    if cfg.n_classes > 1:\n",
        "        criterion = LovaszLossSoftmax()\n",
        "    else:\n",
        "        criterion = LovaszLossHinge()\n",
        "\n",
        "    for epoch in range(cfg.epochs):\n",
        "        net.train()\n",
        "\n",
        "        epoch_loss = 0\n",
        "        with tqdm(total=n_train, desc=f'Epoch {epoch + 1}/{cfg.epochs}', unit='img') as pbar:\n",
        "            for batch in train_loader:\n",
        "                batch_imgs = batch['image']\n",
        "                batch_masks = batch['mask']\n",
        "                assert batch_imgs.shape[1] == cfg.n_channels, \\\n",
        "                        f'Network has been defined with {cfg.n_channels} input channels, ' \\\n",
        "                        f'but loaded images have {batch_imgs.shape[1]} channels. Please check that ' \\\n",
        "                        'the images are loaded correctly.'\n",
        "\n",
        "                batch_imgs = batch_imgs.to(device=device, dtype=torch.float32)\n",
        "                mask_type = torch.float32 if cfg.n_classes == 1 else torch.long\n",
        "                batch_masks = batch_masks.to(device=device, dtype=mask_type)\n",
        "\n",
        "                inference_masks = net(batch_imgs)\n",
        "\n",
        "                #vergleich generierte masken mit ground truth masken\n",
        "                if cfg.n_classes == 1:\n",
        "                    inferences = inference_masks.squeeze(1)\n",
        "                    masks = batch_masks.squeeze(1)\n",
        "                else:\n",
        "                    inferences = inference_masks\n",
        "                    masks = batch_masks\n",
        "\n",
        "                if cfg.deepsupervision:\n",
        "                    loss = 0\n",
        "                    for inference_mask in inferences:\n",
        "                        loss += criterion(inference_mask, masks)\n",
        "                    loss /= len(inferences)\n",
        "                else:\n",
        "                    loss = criterion(inferences, masks)\n",
        "\n",
        "                epoch_loss += loss.item()\n",
        "                writer.add_scalar('Loss/train', loss.item(), global_step)\n",
        "                writer.add_scalar('model/lr', optimizer.param_groups[0]['lr'], global_step)\n",
        "\n",
        "                pbar.set_postfix(**{'loss (batch)': loss.item()})\n",
        "\n",
        "                optimizer.zero_grad()\n",
        "                loss.backward()\n",
        "                optimizer.step()\n",
        "                scheduler.step()\n",
        "\n",
        "                pbar.update(batch_imgs.shape[0])\n",
        "                global_step += 1\n",
        "\n",
        "                if global_step % (n_train // (1 * cfg.batch_size)) == 0:\n",
        "                    val_score = eval_net(net, val_loader, device, n_val, cfg)\n",
        "                    if cfg.n_classes > 1:\n",
        "                        logging.info('Validation cross entropy: {}'.format(val_score))\n",
        "                        writer.add_scalar('CrossEntropy/test', val_score, global_step)\n",
        "                    else:\n",
        "                        logging.info('Validation Dice Coeff: {}'.format(val_score))\n",
        "                        writer.add_scalar('Dice/test', val_score, global_step)\n",
        "\n",
        "                    writer.add_images('images', batch_imgs, global_step)\n",
        "                    if cfg.deepsupervision:\n",
        "                            inference_masks = inference_masks[-1]\n",
        "                    if cfg.n_classes == 1:\n",
        "                        # writer.add_images('masks/true', batch_masks, global_step)\n",
        "                        inference_mask = torch.sigmoid(inference_masks) > cfg.out_threshold\n",
        "                        writer.add_images('masks/inference',\n",
        "                                          inference_mask,\n",
        "                                          global_step)\n",
        "                    else:\n",
        "                        # writer.add_images('masks/true', batch_masks, global_step)\n",
        "                        ids = inference_masks.shape[1]  # N x C x H x W\n",
        "                        inference_masks = torch.chunk(inference_masks, ids, dim=1)\n",
        "                        for idx in range(0, len(inference_masks)):\n",
        "                            inference_mask = torch.sigmoid(inference_masks[idx]) > cfg.out_threshold\n",
        "                            writer.add_images('masks/inference_'+str(idx),\n",
        "                                              inference_mask,\n",
        "                                              global_step)\n",
        "                            \n",
        "        #changed cfg.checkpoints_dir to dir_checkpoint\n",
        "        if cfg.save_cp:\n",
        "            try:\n",
        "                os.mkdir(dir_checkpoint)\n",
        "                logging.info('Created checkpoint directory')\n",
        "            except OSError:\n",
        "                pass\n",
        "\n",
        "            ckpt_name = 'epoch_' + str(epoch + 1) + '.pth'\n",
        "            torch.save(net.state_dict(),\n",
        "                       osp.join(dir_checkpoint, ckpt_name))\n",
        "            logging.info(f'Checkpoint {epoch + 1} saved !')\n",
        "\n",
        "    writer.close()\n",
        "    \n",
        "\n",
        "# Evaluation function\n",
        "def eval_net(net, loader, device, n_val, cfg):\n",
        "    \"\"\"\n",
        "    Evaluation without the densecrf with the dice coefficient\n",
        "\n",
        "    \"\"\"\n",
        "    net.eval()\n",
        "    tot = 0\n",
        "\n",
        "    with tqdm(total=n_val, desc='Validation round', unit='img', leave=False) as pbar:\n",
        "        for batch in loader:\n",
        "            imgs = batch['image']\n",
        "            true_masks = batch['mask']\n",
        "\n",
        "            imgs = imgs.to(device=device, dtype=torch.float32)\n",
        "            mask_type = torch.float32 if cfg.n_classes == 1 else torch.long\n",
        "            true_masks = true_masks.to(device=device, dtype=mask_type)\n",
        "\n",
        "            # compute loss\n",
        "            if cfg.deepsupervision:\n",
        "                masks_preds = net(imgs)\n",
        "                loss = 0\n",
        "                for masks_pred in masks_preds:\n",
        "                    tot_cross_entropy = 0\n",
        "                    for true_mask, pred in zip(true_masks, masks_pred):\n",
        "                        pred = (pred > cfg.out_threshold).float()\n",
        "                        if cfg.n_classes > 1:\n",
        "                            sub_cross_entropy = F.cross_entropy(pred.unsqueeze(dim=0), true_mask.unsqueeze(dim=0).squeeze(1)).item()\n",
        "                        else:\n",
        "                            sub_cross_entropy = dice_coeff(pred, true_mask.squeeze(dim=1)).item()\n",
        "                        tot_cross_entropy += sub_cross_entropy\n",
        "                    tot_cross_entropy = tot_cross_entropy / len(masks_preds)\n",
        "                    tot += tot_cross_entropy\n",
        "            else:\n",
        "                masks_pred = net(imgs)\n",
        "                for true_mask, pred in zip(true_masks, masks_pred):\n",
        "                    pred = (pred > cfg.out_threshold).float()\n",
        "                    if cfg.n_classes > 1:\n",
        "                        tot += F.cross_entropy(pred.unsqueeze(dim=0), true_mask.unsqueeze(dim=0).squeeze(1)).item()\n",
        "                    else:\n",
        "                        tot += dice_coeff(pred, true_mask.squeeze(dim=1)).item()\n",
        "\n",
        "            pbar.update(imgs.shape[0])\n",
        "\n",
        "    return tot / n_val\n"
      ],
      "id": "5523fc5c",
      "execution_count": 13,
      "outputs": []
    },
    {
      "cell_type": "markdown",
      "metadata": {
        "id": "8fecb5df"
      },
      "source": [
        "#### Configure training parameters and device"
      ],
      "id": "8fecb5df"
    },
    {
      "cell_type": "code",
      "metadata": {
        "colab": {
          "base_uri": "https://localhost:8080/"
        },
        "id": "296d24b4",
        "outputId": "ead47911-55b7-47ce-831e-c9de5cb495a2"
      },
      "source": [
        "logging.basicConfig(level=logging.INFO, format='%(levelname)s: %(message)s')\n",
        "\n",
        "# Automatically uses a GPU, if it is available to torch\n",
        "device = torch.device('cuda' if torch.cuda.is_available() else 'cpu')\n",
        "# device = torch.device('cpu')\n",
        "logging.info(f'Using device {device}')\n",
        "\n",
        "net = eval(cfg.model)(cfg)\n",
        "logging.info(f'Network:\\n'\n",
        "             f'\\t{cfg.model} model\\n'\n",
        "             f'\\t{cfg.n_channels} input channels\\n'\n",
        "             f'\\t{cfg.n_classes} output channels (classes)\\n'\n",
        "             f'\\t{\"Bilinear\" if cfg.bilinear else \"Dilated conv\"} upscaling')\n",
        "\n",
        "if cfg.load:\n",
        "    net.load_state_dict(\n",
        "        torch.load(cfg.load, map_location=device)\n",
        "    )\n",
        "    logging.info(f'Model loaded from {cfg.load}')\n",
        "\n",
        "net.to(device=device);\n",
        "# faster convolutions, but more memory\n",
        "# cudnn.benchmark = True"
      ],
      "id": "296d24b4",
      "execution_count": 14,
      "outputs": [
        {
          "output_type": "stream",
          "text": [
            "INFO: Using device cpu\n",
            "INFO: Network:\n",
            "\tNestedUNet model\n",
            "\t3 input channels\n",
            "\t6 output channels (classes)\n",
            "\tBilinear upscaling\n"
          ],
          "name": "stderr"
        }
      ]
    },
    {
      "cell_type": "markdown",
      "metadata": {
        "id": "96dbf6ba"
      },
      "source": [
        "#### Call the training function"
      ],
      "id": "96dbf6ba"
    },
    {
      "cell_type": "code",
      "metadata": {
        "colab": {
          "base_uri": "https://localhost:8080/"
        },
        "id": "7c82f2e2",
        "scrolled": true,
        "outputId": "5e554e9b-ca63-48db-ea62-5b4ad6362a67"
      },
      "source": [
        "try:\n",
        "    train_net(net=net, cfg=cfg, train_dataset=trainingData, val_dataset=validationData)\n",
        "except KeyboardInterrupt:\n",
        "    \n",
        "    torch.save(net.state_dict(), 'INTERRUPTED.pth')\n",
        "    logging.info('Saved interrupt')\n",
        "    try:\n",
        "        sys.exit(0)\n",
        "    except SystemExit:\n",
        "        os._exit(0)"
      ],
      "id": "7c82f2e2",
      "execution_count": null,
      "outputs": [
        {
          "output_type": "stream",
          "text": [
            "/usr/local/lib/python3.7/dist-packages/torch/utils/data/dataloader.py:481: UserWarning: This DataLoader will create 8 worker processes in total. Our suggested max number of worker in current system is 2, which is smaller than what this DataLoader is going to create. Please be aware that excessive worker creation might get DataLoader running slow or even freeze, lower the worker number to avoid potential slowness/freeze if necessary.\n",
            "  cpuset_checked))\n",
            "INFO: Starting training:\n",
            "        Epochs:          3\n",
            "        Batch size:      2\n",
            "        Learning rate:   0.0001\n",
            "        Optimizer:       SGD\n",
            "        Training size:   50\n",
            "        Validation size: 10\n",
            "        Checkpoints:     True\n",
            "        Device:          cpu\n",
            "        Images scaling:  0.3333333333333333\n",
            "    \n",
            "Epoch 1/3:   0%|          | 0/50 [00:00<?, ?img/s]/usr/local/lib/python3.7/dist-packages/torch/utils/data/dataloader.py:481: UserWarning: This DataLoader will create 8 worker processes in total. Our suggested max number of worker in current system is 2, which is smaller than what this DataLoader is going to create. Please be aware that excessive worker creation might get DataLoader running slow or even freeze, lower the worker number to avoid potential slowness/freeze if necessary.\n",
            "  cpuset_checked))\n",
            "/usr/local/lib/python3.7/dist-packages/torch/nn/functional.py:718: UserWarning: Named tensors and all their associated APIs are an experimental feature and subject to change. Please do not use them for anything important until they are released as stable. (Triggered internally at  /pytorch/c10/core/TensorImpl.h:1156.)\n",
            "  return torch.max_pool2d(input, kernel_size, stride, padding, dilation, ceil_mode)\n",
            "Epoch 1/3: 100%|██████████| 50/50 [19:11<00:00, 22.97s/img, loss (batch)=0.826]\n",
            "Validation round:   0%|          | 0/10 [00:00<?, ?img/s]\u001b[A\n",
            "Validation round:  20%|██        | 2/10 [00:21<01:24, 10.62s/img]\u001b[A\n",
            "Validation round:  40%|████      | 4/10 [00:42<01:03, 10.58s/img]\u001b[A\n",
            "Validation round:  60%|██████    | 6/10 [00:57<00:38,  9.68s/img]\u001b[A\n",
            "Validation round:  80%|████████  | 8/10 [01:11<00:17,  8.93s/img]\u001b[A\n",
            "Validation round: 100%|██████████| 10/10 [01:26<00:00,  8.45s/img]\u001b[A\n",
            "Validation round: 12img [01:41,  8.17s/img]                       \u001b[A\n",
            "Validation round: 14img [01:56,  7.96s/img]\u001b[A\n",
            "Validation round: 16img [02:11,  7.79s/img]\u001b[A\n",
            "Validation round: 18img [02:25,  7.59s/img]\u001b[A\n",
            "Validation round: 20img [02:40,  7.63s/img]\u001b[A\n",
            "Validation round: 22img [02:55,  7.48s/img]\u001b[A\n",
            "Validation round: 24img [03:09,  7.37s/img]\u001b[A\n",
            "Validation round: 26img [03:23,  7.30s/img]\u001b[A\n",
            "Validation round: 28img [03:38,  7.33s/img]\u001b[A\n",
            "Validation round: 30img [03:52,  7.28s/img]\u001b[A\n",
            "Validation round: 32img [04:06,  7.22s/img]\u001b[A\n",
            "Validation round: 34img [04:21,  7.17s/img]\u001b[A\n",
            "Validation round: 36img [04:35,  7.13s/img]\u001b[A\n",
            "Validation round: 38img [04:50,  7.24s/img]\u001b[A\n",
            "Validation round: 40img [05:04,  7.18s/img]\u001b[A\n",
            "Validation round: 42img [05:18,  7.12s/img]\u001b[A\n",
            "Validation round: 44img [05:32,  7.08s/img]\u001b[A\n",
            "Validation round: 46img [05:46,  7.07s/img]\u001b[A\n",
            "Validation round: 48img [06:00,  7.07s/img]\u001b[A\n",
            "Validation round: 50img [06:14,  7.05s/img]\u001b[A\n",
            "Validation round: 52img [06:28,  7.04s/img]\u001b[A\n",
            "Validation round: 54img [06:42,  7.03s/img]\u001b[A\n",
            "Validation round: 56img [06:56,  7.00s/img]\u001b[A\n",
            "Validation round: 58img [07:10,  6.99s/img]\u001b[A\n",
            "Validation round: 60img [07:24,  6.98s/img]\u001b[A\n",
            "Validation round: 62img [07:38,  6.97s/img]\u001b[A\n",
            "Validation round: 64img [07:51,  6.96s/img]\u001b[A\n",
            "Validation round: 66img [08:05,  6.98s/img]\u001b[A\n",
            "Validation round: 68img [08:19,  6.99s/img]\u001b[A\n",
            "Validation round: 70img [08:33,  6.97s/img]\u001b[A\n",
            "Validation round: 72img [08:47,  6.97s/img]\u001b[A\n",
            "Validation round: 73img [08:55,  7.10s/img]\u001b[A\n",
            "                                           \u001b[AINFO: Validation cross entropy: 13.079836916923522\n",
            "Epoch 1/3: 86img [41:47, 22.67s/img, loss (batch)=0.811]"
          ],
          "name": "stderr"
        }
      ]
    },
    {
      "cell_type": "markdown",
      "metadata": {
        "id": "hhU8KObDTdLE"
      },
      "source": [
        "## Testdata"
      ],
      "id": "hhU8KObDTdLE"
    },
    {
      "cell_type": "code",
      "metadata": {
        "id": "5Vs03wZCRImt"
      },
      "source": [
        "def inference_one(net, image, device):\n",
        "    net.eval()\n",
        "\n",
        "    img = torch.from_numpy(BasicDataset.preprocess(image, cfg.scale))\n",
        "\n",
        "    img = img.unsqueeze(0)\n",
        "    img = img.to(device=device, dtype=torch.float32)\n",
        "\n",
        "    with torch.no_grad():\n",
        "        output = net(img)\n",
        "        if cfg.deepsupervision:\n",
        "            output = output[-1]\n",
        "\n",
        "        if cfg.n_classes > 1:\n",
        "            probs = F.softmax(output, dim=1)\n",
        "        else:\n",
        "            probs = torch.sigmoid(output)\n",
        "\n",
        "        probs = probs.squeeze(0)\n",
        "\n",
        "        tf = transforms.Compose(\n",
        "            [\n",
        "                transforms.ToPILImage(),\n",
        "                transforms.Resize((image.size[1], image.size[0])),\n",
        "                transforms.ToTensor()\n",
        "            ]\n",
        "        )\n",
        "        \n",
        "        if cfg.n_classes == 1:\n",
        "            probs = tf(probs.cpu())\n",
        "            mask = probs.squeeze().cpu().numpy()\n",
        "            return mask > cfg.out_threshold\n",
        "        else:\n",
        "            masks = []\n",
        "            for prob in probs:\n",
        "                prob = tf(prob.cpu())\n",
        "                mask = prob.squeeze().cpu().numpy()\n",
        "                mask = mask > cfg.out_threshold\n",
        "                masks.append(mask)\n",
        "            return masks\n",
        "  \n",
        "#image_dir = \n",
        "#inference_one(net, image, device)"
      ],
      "id": "5Vs03wZCRImt",
      "execution_count": null,
      "outputs": []
    }
  ]
}