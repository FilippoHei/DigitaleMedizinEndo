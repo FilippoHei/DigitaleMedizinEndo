{
 "cells": [
  {
   "cell_type": "markdown",
   "id": "bdcf5bed",
   "metadata": {},
   "source": [
    "### This Script assesses the Inter-Observer Variablility "
   ]
  },
  {
   "cell_type": "code",
   "execution_count": null,
   "id": "ff52d908",
   "metadata": {},
   "outputs": [],
   "source": [
    "from PIL import Image\n",
    "import numpy as np\n",
    "import os, os.path"
   ]
  },
  {
   "cell_type": "code",
   "execution_count": null,
   "id": "970c2ccf",
   "metadata": {},
   "outputs": [],
   "source": [
    "def variability(img1, img2):\n",
    "        # Check whether both images have the same input shape\n",
    "        if img1.shape != img2.shape:\n",
    "            raise ValueError(\"The two images have different shapes. Please adjust the shapes accordingly.\")\n",
    "        else:\n",
    "            \n",
    "            intersection=0\n",
    "            union=0\n",
    "            \n",
    "            # Calculate the intersection and the union of both masks\n",
    "            for i in range(img1.shape[0]):\n",
    "                for j in range(img1.shape[1]):\n",
    "                    if(np.array_equal(img1[i][j],img2[i][j])):\n",
    "                        intersection+=1\n",
    "                    if img1[i][j].any or img2[i][j].any:\n",
    "                        union+=1       \n",
    "            \n",
    "            # Return dice score, as well as intersection over union (iou)\n",
    "            dice = (2. * intersection)/(img1.sum() + img2.sum())\n",
    "            iou = intersection/union\n",
    "        return dice, iou"
   ]
  },
  {
   "cell_type": "code",
   "execution_count": null,
   "id": "e2cf3dc6",
   "metadata": {
    "scrolled": true
   },
   "outputs": [],
   "source": [
    "# Access the folders of both observer masks\n",
    "dir_observer01 = r\"E:\\Seafile\\Lab Work\\FS8_Uni\\Digitale Medizin\\InterObserver\\Observer_01\" \n",
    "dir_observer02 = r\"E:\\Seafile\\Lab Work\\FS8_Uni\\Digitale Medizin\\InterObserver\\Observer_02\"\n",
    "\n",
    "len_dir01 = len([name for name in os.listdir(dir_observer01) if os.path.isfile(os.path.join(dir_observer01, name))])\n",
    "len_dir02 = len([name for name in os.listdir(dir_observer02) if os.path.isfile(os.path.join(dir_observer02, name))])\n",
    "\n",
    "# Check whether both folders contain the same amount of masks\n",
    "if len_dir01 != len_dir02:\n",
    "    raise ValueError(\"The two folders have differnet number of files. Make sure they are equal.\")\n",
    "else:\n",
    "    total_dice = []\n",
    "    total_iou = []\n",
    "    for i in range(len_dir01):\n",
    "        file = os.path.join(dir_observer01,os.listdir(dir_observer01)[i])\n",
    "        img1 = Image.open(file).convert('LA')\n",
    "        img1 = np.asarray(img1).astype(np.bool)\n",
    "        \n",
    "        file = os.path.join(dir_observer02,os.listdir(dir_observer02)[i])\n",
    "        img2 = Image.open(file).convert('LA')\n",
    "        img2 = np.asarray(img2).astype(np.bool)\n",
    "\n",
    "        [dice, iou] = variability(img1, img2)\n",
    "        print(\"Image {} --- Dice Score: {:.5f} | IOU: {:.5f}\".format(str(i+1).zfill(2),dice, iou))\n",
    "        total_dice.append(dice)\n",
    "        total_iou.append(iou)\n",
    "    \n",
    "    # Return the average variability scores\n",
    "    print(\"\\nAverage Dice Score: {:.2f} (STD: {:.2f})\".format(np.mean(total_dice), np.std(total_dice)))\n",
    "    print(\"Average IOU: {:.2f} (STD: {:.2f})\".format(np.mean(total_iou), np.std(total_iou)))"
   ]
  }
 ],
 "metadata": {
  "kernelspec": {
   "display_name": "Python 3",
   "language": "python",
   "name": "python3"
  },
  "language_info": {
   "codemirror_mode": {
    "name": "ipython",
    "version": 3
   },
   "file_extension": ".py",
   "mimetype": "text/x-python",
   "name": "python",
   "nbconvert_exporter": "python",
   "pygments_lexer": "ipython3",
   "version": "3.7.10"
  },
  "varInspector": {
   "cols": {
    "lenName": 16,
    "lenType": 16,
    "lenVar": 40
   },
   "kernels_config": {
    "python": {
     "delete_cmd_postfix": "",
     "delete_cmd_prefix": "del ",
     "library": "var_list.py",
     "varRefreshCmd": "print(var_dic_list())"
    },
    "r": {
     "delete_cmd_postfix": ") ",
     "delete_cmd_prefix": "rm(",
     "library": "var_list.r",
     "varRefreshCmd": "cat(var_dic_list()) "
    }
   },
   "types_to_exclude": [
    "module",
    "function",
    "builtin_function_or_method",
    "instance",
    "_Feature"
   ],
   "window_display": false
  }
 },
 "nbformat": 4,
 "nbformat_minor": 5
}
